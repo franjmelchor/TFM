{
 "cells": [
  {
   "cell_type": "code",
   "execution_count": 1,
   "metadata": {
    "scrolled": true
   },
   "outputs": [],
   "source": [
    "import pandas as pd\n",
    "import os\n",
    "import sys\n",
    "module_path = os.path.abspath(os.path.join('..'))\n",
    "if module_path not in sys.path:\n",
    "    sys.path.append(module_path)\n",
    "import keys\n",
    "import statistics\n",
    "import numpy as np"
   ]
  },
  {
   "cell_type": "code",
   "execution_count": 2,
   "metadata": {},
   "outputs": [],
   "source": [
    "path_personal_data_processed ='../../Data/Processed/pr_personal_data.csv'\n",
    "sep = '|'"
   ]
  },
  {
   "cell_type": "code",
   "execution_count": 3,
   "metadata": {},
   "outputs": [
    {
     "data": {
      "text/html": [
       "<div>\n",
       "<style scoped>\n",
       "    .dataframe tbody tr th:only-of-type {\n",
       "        vertical-align: middle;\n",
       "    }\n",
       "\n",
       "    .dataframe tbody tr th {\n",
       "        vertical-align: top;\n",
       "    }\n",
       "\n",
       "    .dataframe thead th {\n",
       "        text-align: right;\n",
       "    }\n",
       "</style>\n",
       "<table border=\"1\" class=\"dataframe\">\n",
       "  <thead>\n",
       "    <tr style=\"text-align: right;\">\n",
       "      <th></th>\n",
       "      <th>expediente</th>\n",
       "      <th>cod_plan</th>\n",
       "      <th>des_plan</th>\n",
       "      <th>anio_apertura_expediente</th>\n",
       "      <th>exp_cerrado</th>\n",
       "      <th>exp_trasladado</th>\n",
       "      <th>tipo_traslado</th>\n",
       "      <th>exp_bloqueado</th>\n",
       "      <th>abandona</th>\n",
       "      <th>anio_convocatoria_acceso</th>\n",
       "      <th>...</th>\n",
       "      <th>des_subacesso</th>\n",
       "      <th>nota_acceso</th>\n",
       "      <th>nota_admision_def</th>\n",
       "      <th>centro_escolar_acceso</th>\n",
       "      <th>sexo</th>\n",
       "      <th>fecha_nacimiento</th>\n",
       "      <th>cod_provincia</th>\n",
       "      <th>provincia</th>\n",
       "      <th>cod_municipio</th>\n",
       "      <th>municipio</th>\n",
       "    </tr>\n",
       "  </thead>\n",
       "  <tbody>\n",
       "    <tr>\n",
       "      <th>0</th>\n",
       "      <td>1</td>\n",
       "      <td>1623</td>\n",
       "      <td>GRADO EN INGENIERÍA CIVIL - CONSTRUCCIONES CIV...</td>\n",
       "      <td>2009-10</td>\n",
       "      <td>S</td>\n",
       "      <td>S</td>\n",
       "      <td>S</td>\n",
       "      <td>N</td>\n",
       "      <td>N</td>\n",
       "      <td>2008-09</td>\n",
       "      <td>...</td>\n",
       "      <td>LOGSE</td>\n",
       "      <td>7.16</td>\n",
       "      <td>7.16</td>\n",
       "      <td>229-COLEGIO LA ASUNCIÓN (Cáceres)</td>\n",
       "      <td>H</td>\n",
       "      <td>1991-05-23</td>\n",
       "      <td>10.0</td>\n",
       "      <td>CÁCERES</td>\n",
       "      <td>1.0</td>\n",
       "      <td>CÁCERES</td>\n",
       "    </tr>\n",
       "    <tr>\n",
       "      <th>1</th>\n",
       "      <td>2</td>\n",
       "      <td>1623</td>\n",
       "      <td>GRADO EN INGENIERÍA CIVIL - CONSTRUCCIONES CIV...</td>\n",
       "      <td>2009-10</td>\n",
       "      <td>S</td>\n",
       "      <td>N</td>\n",
       "      <td>N</td>\n",
       "      <td>N</td>\n",
       "      <td>N</td>\n",
       "      <td>2008-09</td>\n",
       "      <td>...</td>\n",
       "      <td>LOGSE</td>\n",
       "      <td>6.77</td>\n",
       "      <td>NaN</td>\n",
       "      <td>NaN</td>\n",
       "      <td>D</td>\n",
       "      <td>1991-03-28</td>\n",
       "      <td>40.0</td>\n",
       "      <td>SEGOVIA</td>\n",
       "      <td>1.0</td>\n",
       "      <td>SEGOVIA</td>\n",
       "    </tr>\n",
       "    <tr>\n",
       "      <th>2</th>\n",
       "      <td>3</td>\n",
       "      <td>1623</td>\n",
       "      <td>GRADO EN INGENIERÍA CIVIL - CONSTRUCCIONES CIV...</td>\n",
       "      <td>2009-10</td>\n",
       "      <td>N</td>\n",
       "      <td>N</td>\n",
       "      <td>N</td>\n",
       "      <td>N</td>\n",
       "      <td>S</td>\n",
       "      <td>2008-09</td>\n",
       "      <td>...</td>\n",
       "      <td>Ciclos formativos</td>\n",
       "      <td>7.78</td>\n",
       "      <td>NaN</td>\n",
       "      <td>NaN</td>\n",
       "      <td>H</td>\n",
       "      <td>1985-02-03</td>\n",
       "      <td>4.0</td>\n",
       "      <td>ALMERÍA</td>\n",
       "      <td>1.0</td>\n",
       "      <td>ALMERÍA</td>\n",
       "    </tr>\n",
       "    <tr>\n",
       "      <th>3</th>\n",
       "      <td>4</td>\n",
       "      <td>1623</td>\n",
       "      <td>GRADO EN INGENIERÍA CIVIL - CONSTRUCCIONES CIV...</td>\n",
       "      <td>2009-10</td>\n",
       "      <td>S</td>\n",
       "      <td>N</td>\n",
       "      <td>N</td>\n",
       "      <td>N</td>\n",
       "      <td>N</td>\n",
       "      <td>2008-09</td>\n",
       "      <td>...</td>\n",
       "      <td>Ciclos formativos</td>\n",
       "      <td>5.88</td>\n",
       "      <td>NaN</td>\n",
       "      <td>NaN</td>\n",
       "      <td>D</td>\n",
       "      <td>1988-11-09</td>\n",
       "      <td>6.0</td>\n",
       "      <td>BADAJOZ</td>\n",
       "      <td>1.0</td>\n",
       "      <td>BADAJOZ</td>\n",
       "    </tr>\n",
       "    <tr>\n",
       "      <th>4</th>\n",
       "      <td>5</td>\n",
       "      <td>1623</td>\n",
       "      <td>GRADO EN INGENIERÍA CIVIL - CONSTRUCCIONES CIV...</td>\n",
       "      <td>2009-10</td>\n",
       "      <td>N</td>\n",
       "      <td>S</td>\n",
       "      <td>I</td>\n",
       "      <td>N</td>\n",
       "      <td>S</td>\n",
       "      <td>2008-09</td>\n",
       "      <td>...</td>\n",
       "      <td>LOGSE</td>\n",
       "      <td>6.73</td>\n",
       "      <td>6.73</td>\n",
       "      <td>160-COLEGIO SAGRADA FAMILIA</td>\n",
       "      <td>D</td>\n",
       "      <td>1991-11-03</td>\n",
       "      <td>6.0</td>\n",
       "      <td>BADAJOZ</td>\n",
       "      <td>1.0</td>\n",
       "      <td>BADAJOZ</td>\n",
       "    </tr>\n",
       "  </tbody>\n",
       "</table>\n",
       "<p>5 rows × 24 columns</p>\n",
       "</div>"
      ],
      "text/plain": [
       "   expediente  cod_plan                                           des_plan  \\\n",
       "0           1      1623  GRADO EN INGENIERÍA CIVIL - CONSTRUCCIONES CIV...   \n",
       "1           2      1623  GRADO EN INGENIERÍA CIVIL - CONSTRUCCIONES CIV...   \n",
       "2           3      1623  GRADO EN INGENIERÍA CIVIL - CONSTRUCCIONES CIV...   \n",
       "3           4      1623  GRADO EN INGENIERÍA CIVIL - CONSTRUCCIONES CIV...   \n",
       "4           5      1623  GRADO EN INGENIERÍA CIVIL - CONSTRUCCIONES CIV...   \n",
       "\n",
       "  anio_apertura_expediente exp_cerrado exp_trasladado tipo_traslado  \\\n",
       "0                  2009-10           S              S             S   \n",
       "1                  2009-10           S              N             N   \n",
       "2                  2009-10           N              N             N   \n",
       "3                  2009-10           S              N             N   \n",
       "4                  2009-10           N              S             I   \n",
       "\n",
       "  exp_bloqueado abandona anio_convocatoria_acceso  ...      des_subacesso  \\\n",
       "0             N        N                  2008-09  ...              LOGSE   \n",
       "1             N        N                  2008-09  ...              LOGSE   \n",
       "2             N        S                  2008-09  ...  Ciclos formativos   \n",
       "3             N        N                  2008-09  ...  Ciclos formativos   \n",
       "4             N        S                  2008-09  ...              LOGSE   \n",
       "\n",
       "   nota_acceso nota_admision_def              centro_escolar_acceso sexo  \\\n",
       "0         7.16              7.16  229-COLEGIO LA ASUNCIÓN (Cáceres)    H   \n",
       "1         6.77               NaN                                NaN    D   \n",
       "2         7.78               NaN                                NaN    H   \n",
       "3         5.88               NaN                                NaN    D   \n",
       "4         6.73              6.73        160-COLEGIO SAGRADA FAMILIA    D   \n",
       "\n",
       "   fecha_nacimiento  cod_provincia provincia cod_municipio municipio  \n",
       "0        1991-05-23           10.0   CÁCERES           1.0   CÁCERES  \n",
       "1        1991-03-28           40.0   SEGOVIA           1.0   SEGOVIA  \n",
       "2        1985-02-03            4.0   ALMERÍA           1.0   ALMERÍA  \n",
       "3        1988-11-09            6.0   BADAJOZ           1.0   BADAJOZ  \n",
       "4        1991-11-03            6.0   BADAJOZ           1.0   BADAJOZ  \n",
       "\n",
       "[5 rows x 24 columns]"
      ]
     },
     "execution_count": 3,
     "metadata": {},
     "output_type": "execute_result"
    }
   ],
   "source": [
    "pr_personal_data = pd.read_csv(\n",
    "                path_personal_data_processed,\n",
    "                sep=sep\n",
    "                )\n",
    "pr_personal_data.head()"
   ]
  },
  {
   "cell_type": "code",
   "execution_count": 4,
   "metadata": {},
   "outputs": [],
   "source": [
    "analys_columns = [keys.RECORD_KEY, keys.PLAN_CODE_KEY, keys.PLAN_DESCRIPTION_KEY, keys.OPEN_YEAR_PLAN_KEY,\n",
    "                  keys.DROP_OUT_KEY, keys.ACCESS_CALL_KEY, keys.ACCESS_DESCRIPTION_KEY,\n",
    "                  keys.FINAL_ADMISION_NOTE_KEY, keys.GENDER_KEY, keys.BIRTH_DATE_KEY,\n",
    "                  keys.PROVINCE_KEY, keys.TOWN_KEY]"
   ]
  },
  {
   "cell_type": "code",
   "execution_count": 5,
   "metadata": {},
   "outputs": [
    {
     "name": "stdout",
     "output_type": "stream",
     "text": [
      "delete columns unused to analysis = 12\n",
      "deleted columns are :['tipo_traslado', 'sub_acceso', 'nota_acceso', 'des_subacesso', 'acceso', 'centro_escolar_acceso', 'exp_trasladado', 'anio_convocatoria_acceso', 'exp_cerrado', 'cod_provincia', 'exp_bloqueado', 'cod_municipio']\n",
      "final columns are: ['expediente', 'cod_plan', 'des_plan', 'anio_apertura_expediente', 'abandona', 'convocatoria_acceso', 'des_acceso', 'nota_admision_def', 'sexo', 'fecha_nacimiento', 'provincia', 'municipio']\n"
     ]
    }
   ],
   "source": [
    "cols_before = len(pr_personal_data.columns)\n",
    "col_list_before = pr_personal_data.columns\n",
    "pr_personal_data = pr_personal_data[analys_columns]\n",
    "cols_after = len(pr_personal_data.columns)\n",
    "col_list_after = pr_personal_data.columns\n",
    "print(\"delete columns unused to analysis = \" + str( cols_before - cols_after))\n",
    "print(\"deleted columns are :\" + str(list(set(col_list_before) - set(col_list_after))))\n",
    "print(\"final columns are: \" + str(analys_columns))"
   ]
  },
  {
   "cell_type": "code",
   "execution_count": 6,
   "metadata": {
    "scrolled": true
   },
   "outputs": [
    {
     "data": {
      "text/plain": [
       "expediente                    0\n",
       "cod_plan                      0\n",
       "des_plan                      0\n",
       "anio_apertura_expediente      0\n",
       "abandona                      0\n",
       "convocatoria_acceso           0\n",
       "des_acceso                    0\n",
       "nota_admision_def           915\n",
       "sexo                          0\n",
       "fecha_nacimiento              0\n",
       "provincia                    84\n",
       "municipio                    90\n",
       "dtype: int64"
      ]
     },
     "execution_count": 6,
     "metadata": {},
     "output_type": "execute_result"
    }
   ],
   "source": [
    "pr_personal_data.isnull().sum()"
   ]
  },
  {
   "cell_type": "code",
   "execution_count": 7,
   "metadata": {},
   "outputs": [],
   "source": [
    "def get_median (cod_plan):\n",
    "    global dset\n",
    "    return statistics.median(dset['nota_admision_def'][(dset['nota_admision_def'].notna()) & (dset['cod_plan']==cod_plan)])\n",
    "    "
   ]
  },
  {
   "cell_type": "code",
   "execution_count": 8,
   "metadata": {},
   "outputs": [],
   "source": [
    "global dset\n",
    "dset = pr_personal_data.copy()"
   ]
  },
  {
   "cell_type": "code",
   "execution_count": 9,
   "metadata": {
    "scrolled": true
   },
   "outputs": [
    {
     "name": "stdout",
     "output_type": "stream",
     "text": [
      "null values before are = 1089\n",
      "null values after are = 174\n"
     ]
    }
   ],
   "source": [
    "print(\"null values before are = \" + str(pr_personal_data.isnull().sum().sum()))\n",
    "pr_personal_data[keys.FINAL_ADMISION_NOTE_KEY] = pr_personal_data.apply(lambda func: get_median(func.cod_plan) if pd.isna(func[keys.FINAL_ADMISION_NOTE_KEY]) else func[keys.FINAL_ADMISION_NOTE_KEY],axis=1)\n",
    "print(\"null values after are = \" + str(pr_personal_data.isnull().sum().sum()))\n"
   ]
  },
  {
   "cell_type": "code",
   "execution_count": 10,
   "metadata": {
    "scrolled": true
   },
   "outputs": [
    {
     "data": {
      "text/plain": [
       "expediente                   0\n",
       "cod_plan                     0\n",
       "des_plan                     0\n",
       "anio_apertura_expediente     0\n",
       "abandona                     0\n",
       "convocatoria_acceso          0\n",
       "des_acceso                   0\n",
       "nota_admision_def            0\n",
       "sexo                         0\n",
       "fecha_nacimiento             0\n",
       "provincia                   84\n",
       "municipio                   90\n",
       "dtype: int64"
      ]
     },
     "execution_count": 10,
     "metadata": {},
     "output_type": "execute_result"
    }
   ],
   "source": [
    "pr_personal_data.isnull().sum()"
   ]
  },
  {
   "cell_type": "code",
   "execution_count": 11,
   "metadata": {
    "scrolled": false
   },
   "outputs": [
    {
     "name": "stdout",
     "output_type": "stream",
     "text": [
      "deleted columns are :['municipio', 'provincia']\n",
      "new column is: lugar_origen\n",
      "final columns are: ['expediente', 'cod_plan', 'des_plan', 'anio_apertura_expediente', 'abandona', 'convocatoria_acceso', 'des_acceso', 'nota_admision_def', 'sexo', 'fecha_nacimiento', 'provincia', 'municipio']\n"
     ]
    }
   ],
   "source": [
    "col_list_before = pr_personal_data.columns\n",
    "pr_personal_data['lugar_origen'] = pr_personal_data[keys.TOWN_KEY].apply(lambda func: 'MISMO_MUNICIPIO' if func == 'CÁCERES' else (func if pd.isna(func) else 'OTRO_MUNICIPIO'))\n",
    "pr_personal_data['lugar_origen'] = pr_personal_data.apply(\n",
    "    lambda func: func.lugar_origen if func[keys.PROVINCE_KEY] == 'CÁCERES' or \n",
    "    func[keys.PROVINCE_KEY] == 'BADAJOZ' else(func[keys.PROVINCE_KEY] if pd.isna(func[keys.PROVINCE_KEY]) else 'OTRA_COMUNIDAD'),axis=1)\n",
    "pr_personal_data.drop([keys.TOWN_KEY, keys.PROVINCE_KEY],axis=1,inplace=True)\n",
    "col_list_after = pr_personal_data.columns\n",
    "print(\"deleted columns are :\" + str(list(set(col_list_before) - set(col_list_after))))\n",
    "print(\"new column is: lugar_origen\" )\n",
    "print(\"final columns are: \" + str(analys_columns))"
   ]
  },
  {
   "cell_type": "code",
   "execution_count": 12,
   "metadata": {
    "scrolled": true
   },
   "outputs": [
    {
     "name": "stdout",
     "output_type": "stream",
     "text": [
      "remove nans = 84\n"
     ]
    }
   ],
   "source": [
    "rows_before = len(pr_personal_data.index)\n",
    "pr_personal_data.dropna(inplace=True)\n",
    "rows_after = len(pr_personal_data.index)\n",
    "print(\"remove nans = \" + str( rows_before - rows_after))"
   ]
  },
  {
   "cell_type": "code",
   "execution_count": 13,
   "metadata": {},
   "outputs": [
    {
     "data": {
      "text/plain": [
       "Index(['expediente', 'cod_plan', 'des_plan', 'anio_apertura_expediente',\n",
       "       'abandona', 'convocatoria_acceso', 'des_acceso', 'nota_admision_def',\n",
       "       'sexo', 'fecha_nacimiento', 'lugar_origen'],\n",
       "      dtype='object')"
      ]
     },
     "execution_count": 13,
     "metadata": {},
     "output_type": "execute_result"
    }
   ],
   "source": [
    "pr_personal_data.columns"
   ]
  },
  {
   "cell_type": "code",
   "execution_count": 14,
   "metadata": {},
   "outputs": [
    {
     "name": "stdout",
     "output_type": "stream",
     "text": [
      "Get only birth year of birth date\n"
     ]
    }
   ],
   "source": [
    "pr_personal_data[keys.BIRTH_DATE_KEY] = pd.to_datetime(pr_personal_data[keys.BIRTH_DATE_KEY])\n",
    "pr_personal_data[keys.BIRTH_DATE_KEY] = pr_personal_data[keys.BIRTH_DATE_KEY].apply(lambda func: func.year)\n",
    "pr_personal_data.rename(columns={keys.BIRTH_DATE_KEY: keys.BIRTH_YEAR_KEY}, inplace=True)\n",
    "anio_nacimiento_bcket_array = np.linspace(1960, 2005, 10)\n",
    "pr_personal_data[keys.BIRTH_YEAR_INTERVAL_KEY] = pd.cut(\n",
    "    pr_personal_data[keys.BIRTH_YEAR_KEY], anio_nacimiento_bcket_array, include_lowest=True)\n",
    "pr_personal_data.drop([keys.BIRTH_YEAR_KEY], axis=1, inplace=True)\n",
    "print(\"Get only birth year of birth date and discretize on intervals\")"
   ]
  },
  {
   "cell_type": "code",
   "execution_count": 16,
   "metadata": {},
   "outputs": [
    {
     "name": "stdout",
     "output_type": "stream",
     "text": [
      "Change format to abandona feature\n"
     ]
    }
   ],
   "source": [
    "pr_personal_data[keys.DROP_OUT_KEY] = pr_personal_data[keys.DROP_OUT_KEY].apply(\n",
    "    lambda func: 1 if func == 'S' else 0)\n",
    "print(\"Change format to \" + keys.DROP_OUT_KEY + \" feature\")"
   ]
  },
  {
   "cell_type": "code",
   "execution_count": 17,
   "metadata": {},
   "outputs": [],
   "source": [
    "path_personal_data_preanalysis ='../../Data/Pre-analysis/pre_analys_personal_data.csv'\n",
    "pr_personal_data.to_csv(\n",
    "    path_personal_data_preanalysis,\n",
    "    sep=sep,\n",
    "    index=False)"
   ]
  }
 ],
 "metadata": {
  "kernelspec": {
   "display_name": "Python 3",
   "language": "python",
   "name": "python3"
  },
  "language_info": {
   "codemirror_mode": {
    "name": "ipython",
    "version": 3
   },
   "file_extension": ".py",
   "mimetype": "text/x-python",
   "name": "python",
   "nbconvert_exporter": "python",
   "pygments_lexer": "ipython3",
   "version": "3.8.10"
  }
 },
 "nbformat": 4,
 "nbformat_minor": 4
}
