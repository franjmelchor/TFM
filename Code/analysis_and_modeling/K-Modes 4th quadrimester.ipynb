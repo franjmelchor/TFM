{
 "cells": [
  {
   "cell_type": "code",
   "execution_count": 1,
   "metadata": {},
   "outputs": [],
   "source": [
    "import pandas as pd\n",
    "import numpy as np\n",
    "import feather\n",
    "import matplotlib as mpl\n",
    "mpl.use('nbAgg')\n",
    "import matplotlib.pyplot as plt\n",
    "from sklearn import preprocessing\n",
    "import sklearn.model_selection as ms\n",
    "from sklearn import linear_model\n",
    "import numpy as np\n",
    "import numpy.random as nr\n",
    "import matplotlib.pyplot as plt\n",
    "import seaborn as sns\n",
    "import scipy.stats as ss\n",
    "import math\n",
    "from kmodes.kmodes import KModes\n",
    "\n",
    "\n",
    "%matplotlib inline"
   ]
  },
  {
   "cell_type": "code",
   "execution_count": 2,
   "metadata": {},
   "outputs": [],
   "source": [
    "dset = pd.read_csv('../../Data/For_analysis_and_modeling/4th_quadrimester/pred_analys_personal_data.csv', sep = '|')\n",
    "dset.drop(['1st_model','2nd_model','3rd_model','4th_model','5th_model'],axis=1,inplace=True)"
   ]
  },
  {
   "cell_type": "code",
   "execution_count": 3,
   "metadata": {},
   "outputs": [
    {
     "data": {
      "text/html": [
       "<div>\n",
       "<style scoped>\n",
       "    .dataframe tbody tr th:only-of-type {\n",
       "        vertical-align: middle;\n",
       "    }\n",
       "\n",
       "    .dataframe tbody tr th {\n",
       "        vertical-align: top;\n",
       "    }\n",
       "\n",
       "    .dataframe thead th {\n",
       "        text-align: right;\n",
       "    }\n",
       "</style>\n",
       "<table border=\"1\" class=\"dataframe\">\n",
       "  <thead>\n",
       "    <tr style=\"text-align: right;\">\n",
       "      <th></th>\n",
       "      <th>des_plan</th>\n",
       "      <th>anio_apertura_expediente</th>\n",
       "      <th>abandona</th>\n",
       "      <th>convocatoria_acceso</th>\n",
       "      <th>des_acceso</th>\n",
       "      <th>sexo</th>\n",
       "      <th>edad_acceso</th>\n",
       "      <th>becario</th>\n",
       "      <th>nota_admision_def_interval</th>\n",
       "      <th>cum_pass_ratio</th>\n",
       "      <th>cum_absent_ratio</th>\n",
       "      <th>expediente</th>\n",
       "      <th>cod_plan</th>\n",
       "    </tr>\n",
       "  </thead>\n",
       "  <tbody>\n",
       "    <tr>\n",
       "      <th>0</th>\n",
       "      <td>GRADO EN INGENIERÍA CIVIL - CONSTRUCCIONES CIV...</td>\n",
       "      <td>2009-10</td>\n",
       "      <td>0</td>\n",
       "      <td>JUN</td>\n",
       "      <td>Selectividad</td>\n",
       "      <td>H</td>\n",
       "      <td>(20.0, 25.0]</td>\n",
       "      <td>N</td>\n",
       "      <td>(6.5, 8.0]</td>\n",
       "      <td>(-0.001, 0.25]</td>\n",
       "      <td>(0.25, 0.5]</td>\n",
       "      <td>1</td>\n",
       "      <td>1623</td>\n",
       "    </tr>\n",
       "    <tr>\n",
       "      <th>1</th>\n",
       "      <td>GRADO EN INGENIERÍA CIVIL - CONSTRUCCIONES CIV...</td>\n",
       "      <td>2009-10</td>\n",
       "      <td>0</td>\n",
       "      <td>JUN</td>\n",
       "      <td>Selectividad</td>\n",
       "      <td>D</td>\n",
       "      <td>(20.0, 25.0]</td>\n",
       "      <td>N</td>\n",
       "      <td>(6.5, 8.0]</td>\n",
       "      <td>(0.25, 0.5]</td>\n",
       "      <td>(0.25, 0.5]</td>\n",
       "      <td>2</td>\n",
       "      <td>1623</td>\n",
       "    </tr>\n",
       "    <tr>\n",
       "      <th>2</th>\n",
       "      <td>GRADO EN INGENIERÍA CIVIL - CONSTRUCCIONES CIV...</td>\n",
       "      <td>2009-10</td>\n",
       "      <td>0</td>\n",
       "      <td>JUN</td>\n",
       "      <td>Formación Profesional</td>\n",
       "      <td>D</td>\n",
       "      <td>(25.0, 30.0]</td>\n",
       "      <td>N</td>\n",
       "      <td>(6.5, 8.0]</td>\n",
       "      <td>(0.25, 0.5]</td>\n",
       "      <td>(0.25, 0.5]</td>\n",
       "      <td>4</td>\n",
       "      <td>1623</td>\n",
       "    </tr>\n",
       "    <tr>\n",
       "      <th>3</th>\n",
       "      <td>GRADO EN INGENIERÍA CIVIL - CONSTRUCCIONES CIV...</td>\n",
       "      <td>2009-10</td>\n",
       "      <td>1</td>\n",
       "      <td>JUN</td>\n",
       "      <td>Selectividad</td>\n",
       "      <td>D</td>\n",
       "      <td>(20.0, 25.0]</td>\n",
       "      <td>N</td>\n",
       "      <td>(6.5, 8.0]</td>\n",
       "      <td>(0.25, 0.5]</td>\n",
       "      <td>(0.25, 0.5]</td>\n",
       "      <td>5</td>\n",
       "      <td>1623</td>\n",
       "    </tr>\n",
       "    <tr>\n",
       "      <th>4</th>\n",
       "      <td>GRADO EN INGENIERÍA CIVIL - CONSTRUCCIONES CIV...</td>\n",
       "      <td>2009-10</td>\n",
       "      <td>0</td>\n",
       "      <td>JUN</td>\n",
       "      <td>Selectividad</td>\n",
       "      <td>H</td>\n",
       "      <td>(20.0, 25.0]</td>\n",
       "      <td>N</td>\n",
       "      <td>(6.5, 8.0]</td>\n",
       "      <td>(0.5, 0.75]</td>\n",
       "      <td>(-0.001, 0.25]</td>\n",
       "      <td>6</td>\n",
       "      <td>1623</td>\n",
       "    </tr>\n",
       "  </tbody>\n",
       "</table>\n",
       "</div>"
      ],
      "text/plain": [
       "                                            des_plan anio_apertura_expediente  \\\n",
       "0  GRADO EN INGENIERÍA CIVIL - CONSTRUCCIONES CIV...                  2009-10   \n",
       "1  GRADO EN INGENIERÍA CIVIL - CONSTRUCCIONES CIV...                  2009-10   \n",
       "2  GRADO EN INGENIERÍA CIVIL - CONSTRUCCIONES CIV...                  2009-10   \n",
       "3  GRADO EN INGENIERÍA CIVIL - CONSTRUCCIONES CIV...                  2009-10   \n",
       "4  GRADO EN INGENIERÍA CIVIL - CONSTRUCCIONES CIV...                  2009-10   \n",
       "\n",
       "   abandona convocatoria_acceso             des_acceso sexo   edad_acceso  \\\n",
       "0         0                 JUN           Selectividad    H  (20.0, 25.0]   \n",
       "1         0                 JUN           Selectividad    D  (20.0, 25.0]   \n",
       "2         0                 JUN  Formación Profesional    D  (25.0, 30.0]   \n",
       "3         1                 JUN           Selectividad    D  (20.0, 25.0]   \n",
       "4         0                 JUN           Selectividad    H  (20.0, 25.0]   \n",
       "\n",
       "  becario nota_admision_def_interval  cum_pass_ratio cum_absent_ratio  \\\n",
       "0       N                 (6.5, 8.0]  (-0.001, 0.25]      (0.25, 0.5]   \n",
       "1       N                 (6.5, 8.0]     (0.25, 0.5]      (0.25, 0.5]   \n",
       "2       N                 (6.5, 8.0]     (0.25, 0.5]      (0.25, 0.5]   \n",
       "3       N                 (6.5, 8.0]     (0.25, 0.5]      (0.25, 0.5]   \n",
       "4       N                 (6.5, 8.0]     (0.5, 0.75]   (-0.001, 0.25]   \n",
       "\n",
       "   expediente  cod_plan  \n",
       "0           1      1623  \n",
       "1           2      1623  \n",
       "2           4      1623  \n",
       "3           5      1623  \n",
       "4           6      1623  "
      ]
     },
     "execution_count": 3,
     "metadata": {},
     "output_type": "execute_result"
    }
   ],
   "source": [
    "dset.head()"
   ]
  },
  {
   "cell_type": "code",
   "execution_count": 4,
   "metadata": {},
   "outputs": [
    {
     "data": {
      "text/plain": [
       "des_plan                      0\n",
       "anio_apertura_expediente      0\n",
       "abandona                      0\n",
       "convocatoria_acceso           0\n",
       "des_acceso                    0\n",
       "sexo                          0\n",
       "edad_acceso                   0\n",
       "becario                       0\n",
       "nota_admision_def_interval    0\n",
       "cum_pass_ratio                0\n",
       "cum_absent_ratio              0\n",
       "expediente                    0\n",
       "cod_plan                      0\n",
       "dtype: int64"
      ]
     },
     "execution_count": 4,
     "metadata": {},
     "output_type": "execute_result"
    }
   ],
   "source": [
    "dset.isnull().sum()"
   ]
  },
  {
   "cell_type": "code",
   "execution_count": 5,
   "metadata": {},
   "outputs": [],
   "source": [
    "dset['exp_cod_plan'] = dset.apply(lambda func: str(func.cod_plan) + str(func.expediente),axis=1)\n",
    "dset.drop(['expediente','cod_plan'],axis=1,inplace=True)"
   ]
  },
  {
   "cell_type": "code",
   "execution_count": 6,
   "metadata": {},
   "outputs": [
    {
     "data": {
      "text/html": [
       "<div>\n",
       "<style scoped>\n",
       "    .dataframe tbody tr th:only-of-type {\n",
       "        vertical-align: middle;\n",
       "    }\n",
       "\n",
       "    .dataframe tbody tr th {\n",
       "        vertical-align: top;\n",
       "    }\n",
       "\n",
       "    .dataframe thead th {\n",
       "        text-align: right;\n",
       "    }\n",
       "</style>\n",
       "<table border=\"1\" class=\"dataframe\">\n",
       "  <thead>\n",
       "    <tr style=\"text-align: right;\">\n",
       "      <th></th>\n",
       "      <th>des_plan</th>\n",
       "      <th>anio_apertura_expediente</th>\n",
       "      <th>abandona</th>\n",
       "      <th>convocatoria_acceso</th>\n",
       "      <th>des_acceso</th>\n",
       "      <th>sexo</th>\n",
       "      <th>edad_acceso</th>\n",
       "      <th>becario</th>\n",
       "      <th>nota_admision_def_interval</th>\n",
       "      <th>cum_pass_ratio</th>\n",
       "      <th>cum_absent_ratio</th>\n",
       "      <th>exp_cod_plan</th>\n",
       "    </tr>\n",
       "  </thead>\n",
       "  <tbody>\n",
       "    <tr>\n",
       "      <th>0</th>\n",
       "      <td>GRADO EN INGENIERÍA CIVIL - CONSTRUCCIONES CIV...</td>\n",
       "      <td>2009-10</td>\n",
       "      <td>0</td>\n",
       "      <td>JUN</td>\n",
       "      <td>Selectividad</td>\n",
       "      <td>H</td>\n",
       "      <td>(20.0, 25.0]</td>\n",
       "      <td>N</td>\n",
       "      <td>(6.5, 8.0]</td>\n",
       "      <td>(-0.001, 0.25]</td>\n",
       "      <td>(0.25, 0.5]</td>\n",
       "      <td>16231</td>\n",
       "    </tr>\n",
       "    <tr>\n",
       "      <th>1</th>\n",
       "      <td>GRADO EN INGENIERÍA CIVIL - CONSTRUCCIONES CIV...</td>\n",
       "      <td>2009-10</td>\n",
       "      <td>0</td>\n",
       "      <td>JUN</td>\n",
       "      <td>Selectividad</td>\n",
       "      <td>D</td>\n",
       "      <td>(20.0, 25.0]</td>\n",
       "      <td>N</td>\n",
       "      <td>(6.5, 8.0]</td>\n",
       "      <td>(0.25, 0.5]</td>\n",
       "      <td>(0.25, 0.5]</td>\n",
       "      <td>16232</td>\n",
       "    </tr>\n",
       "    <tr>\n",
       "      <th>2</th>\n",
       "      <td>GRADO EN INGENIERÍA CIVIL - CONSTRUCCIONES CIV...</td>\n",
       "      <td>2009-10</td>\n",
       "      <td>0</td>\n",
       "      <td>JUN</td>\n",
       "      <td>Formación Profesional</td>\n",
       "      <td>D</td>\n",
       "      <td>(25.0, 30.0]</td>\n",
       "      <td>N</td>\n",
       "      <td>(6.5, 8.0]</td>\n",
       "      <td>(0.25, 0.5]</td>\n",
       "      <td>(0.25, 0.5]</td>\n",
       "      <td>16234</td>\n",
       "    </tr>\n",
       "    <tr>\n",
       "      <th>3</th>\n",
       "      <td>GRADO EN INGENIERÍA CIVIL - CONSTRUCCIONES CIV...</td>\n",
       "      <td>2009-10</td>\n",
       "      <td>1</td>\n",
       "      <td>JUN</td>\n",
       "      <td>Selectividad</td>\n",
       "      <td>D</td>\n",
       "      <td>(20.0, 25.0]</td>\n",
       "      <td>N</td>\n",
       "      <td>(6.5, 8.0]</td>\n",
       "      <td>(0.25, 0.5]</td>\n",
       "      <td>(0.25, 0.5]</td>\n",
       "      <td>16235</td>\n",
       "    </tr>\n",
       "    <tr>\n",
       "      <th>4</th>\n",
       "      <td>GRADO EN INGENIERÍA CIVIL - CONSTRUCCIONES CIV...</td>\n",
       "      <td>2009-10</td>\n",
       "      <td>0</td>\n",
       "      <td>JUN</td>\n",
       "      <td>Selectividad</td>\n",
       "      <td>H</td>\n",
       "      <td>(20.0, 25.0]</td>\n",
       "      <td>N</td>\n",
       "      <td>(6.5, 8.0]</td>\n",
       "      <td>(0.5, 0.75]</td>\n",
       "      <td>(-0.001, 0.25]</td>\n",
       "      <td>16236</td>\n",
       "    </tr>\n",
       "  </tbody>\n",
       "</table>\n",
       "</div>"
      ],
      "text/plain": [
       "                                            des_plan anio_apertura_expediente  \\\n",
       "0  GRADO EN INGENIERÍA CIVIL - CONSTRUCCIONES CIV...                  2009-10   \n",
       "1  GRADO EN INGENIERÍA CIVIL - CONSTRUCCIONES CIV...                  2009-10   \n",
       "2  GRADO EN INGENIERÍA CIVIL - CONSTRUCCIONES CIV...                  2009-10   \n",
       "3  GRADO EN INGENIERÍA CIVIL - CONSTRUCCIONES CIV...                  2009-10   \n",
       "4  GRADO EN INGENIERÍA CIVIL - CONSTRUCCIONES CIV...                  2009-10   \n",
       "\n",
       "   abandona convocatoria_acceso             des_acceso sexo   edad_acceso  \\\n",
       "0         0                 JUN           Selectividad    H  (20.0, 25.0]   \n",
       "1         0                 JUN           Selectividad    D  (20.0, 25.0]   \n",
       "2         0                 JUN  Formación Profesional    D  (25.0, 30.0]   \n",
       "3         1                 JUN           Selectividad    D  (20.0, 25.0]   \n",
       "4         0                 JUN           Selectividad    H  (20.0, 25.0]   \n",
       "\n",
       "  becario nota_admision_def_interval  cum_pass_ratio cum_absent_ratio  \\\n",
       "0       N                 (6.5, 8.0]  (-0.001, 0.25]      (0.25, 0.5]   \n",
       "1       N                 (6.5, 8.0]     (0.25, 0.5]      (0.25, 0.5]   \n",
       "2       N                 (6.5, 8.0]     (0.25, 0.5]      (0.25, 0.5]   \n",
       "3       N                 (6.5, 8.0]     (0.25, 0.5]      (0.25, 0.5]   \n",
       "4       N                 (6.5, 8.0]     (0.5, 0.75]   (-0.001, 0.25]   \n",
       "\n",
       "  exp_cod_plan  \n",
       "0        16231  \n",
       "1        16232  \n",
       "2        16234  \n",
       "3        16235  \n",
       "4        16236  "
      ]
     },
     "execution_count": 6,
     "metadata": {},
     "output_type": "execute_result"
    }
   ],
   "source": [
    "dset.head()"
   ]
  },
  {
   "cell_type": "code",
   "execution_count": 7,
   "metadata": {},
   "outputs": [
    {
     "data": {
      "text/plain": [
       "(6.5, 8.0]      942\n",
       "(4.999, 6.5]    406\n",
       "(8.0, 9.5]      177\n",
       "(10.0, 11.5]     80\n",
       "(11.5, 13.0]     40\n",
       "(9.5, 10.0]      35\n",
       "(13.0, 14.0]      4\n",
       "Name: nota_admision_def_interval, dtype: int64"
      ]
     },
     "execution_count": 7,
     "metadata": {},
     "output_type": "execute_result"
    }
   ],
   "source": [
    "dset['nota_admision_def_interval'].value_counts()"
   ]
  },
  {
   "cell_type": "code",
   "execution_count": 8,
   "metadata": {
    "scrolled": false
   },
   "outputs": [
    {
     "data": {
      "text/plain": [
       "des_plan                      0\n",
       "anio_apertura_expediente      0\n",
       "abandona                      0\n",
       "convocatoria_acceso           0\n",
       "des_acceso                    0\n",
       "sexo                          0\n",
       "edad_acceso                   0\n",
       "becario                       0\n",
       "nota_admision_def_interval    0\n",
       "cum_pass_ratio                0\n",
       "cum_absent_ratio              0\n",
       "exp_cod_plan                  0\n",
       "dtype: int64"
      ]
     },
     "execution_count": 8,
     "metadata": {},
     "output_type": "execute_result"
    }
   ],
   "source": [
    "dset.isnull().sum()"
   ]
  },
  {
   "cell_type": "code",
   "execution_count": 9,
   "metadata": {},
   "outputs": [],
   "source": [
    "# Import module for data manipulation\n",
    "import pandas as pd\n",
    "# Import module for linear algebra\n",
    "import numpy as np\n",
    "# Import module for data visualization\n",
    "from plotnine import *\n",
    "import plotnine\n",
    "# Data visualization with matplotlib\n",
    "import matplotlib.pyplot as plt\n",
    "# Use the theme of ggplot\n",
    "plt.style.use('ggplot')\n",
    "# Import module for k-protoype cluster\n",
    "from kmodes.kmodes import KModes"
   ]
  },
  {
   "cell_type": "code",
   "execution_count": 10,
   "metadata": {},
   "outputs": [
    {
     "data": {
      "text/plain": [
       "array([['GRADO EN INGENIERÍA CIVIL - CONSTRUCCIONES CIVILES', '2009-10',\n",
       "        0, ..., '(6.5, 8.0]', '(-0.001, 0.25]', '(0.25, 0.5]'],\n",
       "       ['GRADO EN INGENIERÍA CIVIL - CONSTRUCCIONES CIVILES', '2009-10',\n",
       "        0, ..., '(6.5, 8.0]', '(0.25, 0.5]', '(0.25, 0.5]'],\n",
       "       ['GRADO EN INGENIERÍA CIVIL - CONSTRUCCIONES CIVILES', '2009-10',\n",
       "        0, ..., '(6.5, 8.0]', '(0.25, 0.5]', '(0.25, 0.5]'],\n",
       "       ...,\n",
       "       ['GRADO EN INGENIERÍA INFORMÁTICA EN INGENIERÍA DEL SOFTWARE',\n",
       "        '2016-17', 1, ..., '(6.5, 8.0]', '(-0.001, 0.25]', '(0.5, 0.75]'],\n",
       "       ['GRADO EN INGENIERÍA INFORMÁTICA EN INGENIERÍA DEL SOFTWARE',\n",
       "        '2016-17', 0, ..., '(6.5, 8.0]', '(0.25, 0.5]', '(0.25, 0.5]'],\n",
       "       ['GRADO EN INGENIERÍA INFORMÁTICA EN INGENIERÍA DEL SOFTWARE',\n",
       "        '2016-17', 1, ..., '(4.999, 6.5]', '(-0.001, 0.25]',\n",
       "        '(0.5, 0.75]']], dtype=object)"
      ]
     },
     "execution_count": 10,
     "metadata": {},
     "output_type": "execute_result"
    }
   ],
   "source": [
    "dfMatrix = dset.loc[:, dset.columns != 'exp_cod_plan'].to_numpy()\n",
    "dfMatrix"
   ]
  },
  {
   "cell_type": "code",
   "execution_count": 11,
   "metadata": {},
   "outputs": [
    {
     "name": "stdout",
     "output_type": "stream",
     "text": [
      "Cluster initiation: 1\n",
      "Cluster initiation: 2\n",
      "Cluster initiation: 3\n",
      "Cluster initiation: 4\n",
      "Cluster initiation: 5\n",
      "Cluster initiation: 6\n",
      "Cluster initiation: 7\n",
      "Cluster initiation: 8\n",
      "Cluster initiation: 9\n"
     ]
    },
    {
     "data": {
      "image/png": "[encoded data removed]",
      "text/plain": [
       "<Figure size 800x480 with 1 Axes>"
      ]
     },
     "metadata": {
      "needs_background": "light"
     },
     "output_type": "display_data"
    },
    {
     "data": {
      "text/plain": [
       "<ggplot: (8751027914966)>"
      ]
     },
     "execution_count": 11,
     "metadata": {},
     "output_type": "execute_result"
    }
   ],
   "source": [
    "# Choosing optimal K\n",
    "cost = []\n",
    "for cluster in range(1, 10):\n",
    "    kmodes = KModes(n_jobs = -1, n_clusters = cluster, init = 'Huang', random_state = 0)\n",
    "    kmodes.fit_predict(dfMatrix)\n",
    "    cost.append(kmodes.cost_)\n",
    "    print('Cluster initiation: {}'.format(cluster))\n",
    "# Converting the results into a dataframe and plotting them\n",
    "df_cost = pd.DataFrame({'Cluster': range(1, 10), 'Cost': cost})\n",
    "# Data viz\n",
    "plotnine.options.figure_size = (8, 4.8)\n",
    "(\n",
    "    ggplot(data = df_cost)+\n",
    "    geom_line(aes(x = 'Cluster',\n",
    "                  y = 'Cost'))+\n",
    "    geom_point(aes(x = 'Cluster',\n",
    "                   y = 'Cost'))+\n",
    "    geom_label(aes(x = 'Cluster',\n",
    "                   y = 'Cost',\n",
    "                   label = 'Cluster'),\n",
    "               size = 10,\n",
    "               nudge_y = 1000) +\n",
    "    labs(title = 'Optimal number of cluster with Elbow Method')+\n",
    "    xlab('Number of Clusters k')+\n",
    "    ylab('Cost')+\n",
    "    theme_minimal()\n",
    ")"
   ]
  },
  {
   "cell_type": "markdown",
   "metadata": {},
   "source": [
    "Probaremos con 5"
   ]
  },
  {
   "cell_type": "code",
   "execution_count": 12,
   "metadata": {},
   "outputs": [],
   "source": [
    "# Fit the cluster\n",
    "kmodes = KModes(n_jobs = -1, n_clusters = 5, init = 'Huang', random_state = 0)\n",
    "kmodes.fit_predict(dfMatrix)\n",
    "# Add the cluster to the dataframe\n",
    "dset['Cluster Labels'] = kmodes.labels_\n"
   ]
  },
  {
   "cell_type": "code",
   "execution_count": 13,
   "metadata": {},
   "outputs": [
    {
     "data": {
      "text/html": [
       "<div>\n",
       "<style scoped>\n",
       "    .dataframe tbody tr th:only-of-type {\n",
       "        vertical-align: middle;\n",
       "    }\n",
       "\n",
       "    .dataframe tbody tr th {\n",
       "        vertical-align: top;\n",
       "    }\n",
       "\n",
       "    .dataframe thead th {\n",
       "        text-align: right;\n",
       "    }\n",
       "</style>\n",
       "<table border=\"1\" class=\"dataframe\">\n",
       "  <thead>\n",
       "    <tr style=\"text-align: right;\">\n",
       "      <th></th>\n",
       "      <th>des_plan</th>\n",
       "      <th>anio_apertura_expediente</th>\n",
       "      <th>abandona</th>\n",
       "      <th>convocatoria_acceso</th>\n",
       "      <th>des_acceso</th>\n",
       "      <th>sexo</th>\n",
       "      <th>edad_acceso</th>\n",
       "      <th>becario</th>\n",
       "      <th>nota_admision_def_interval</th>\n",
       "      <th>cum_pass_ratio</th>\n",
       "      <th>cum_absent_ratio</th>\n",
       "      <th>exp_cod_plan</th>\n",
       "      <th>Cluster Labels</th>\n",
       "    </tr>\n",
       "  </thead>\n",
       "  <tbody>\n",
       "    <tr>\n",
       "      <th>0</th>\n",
       "      <td>GRADO EN INGENIERÍA CIVIL - CONSTRUCCIONES CIV...</td>\n",
       "      <td>2009-10</td>\n",
       "      <td>0</td>\n",
       "      <td>JUN</td>\n",
       "      <td>Selectividad</td>\n",
       "      <td>H</td>\n",
       "      <td>(20.0, 25.0]</td>\n",
       "      <td>N</td>\n",
       "      <td>(6.5, 8.0]</td>\n",
       "      <td>(-0.001, 0.25]</td>\n",
       "      <td>(0.25, 0.5]</td>\n",
       "      <td>16231</td>\n",
       "      <td>0</td>\n",
       "    </tr>\n",
       "    <tr>\n",
       "      <th>1</th>\n",
       "      <td>GRADO EN INGENIERÍA CIVIL - CONSTRUCCIONES CIV...</td>\n",
       "      <td>2009-10</td>\n",
       "      <td>0</td>\n",
       "      <td>JUN</td>\n",
       "      <td>Selectividad</td>\n",
       "      <td>D</td>\n",
       "      <td>(20.0, 25.0]</td>\n",
       "      <td>N</td>\n",
       "      <td>(6.5, 8.0]</td>\n",
       "      <td>(0.25, 0.5]</td>\n",
       "      <td>(0.25, 0.5]</td>\n",
       "      <td>16232</td>\n",
       "      <td>0</td>\n",
       "    </tr>\n",
       "    <tr>\n",
       "      <th>2</th>\n",
       "      <td>GRADO EN INGENIERÍA CIVIL - CONSTRUCCIONES CIV...</td>\n",
       "      <td>2009-10</td>\n",
       "      <td>0</td>\n",
       "      <td>JUN</td>\n",
       "      <td>Formación Profesional</td>\n",
       "      <td>D</td>\n",
       "      <td>(25.0, 30.0]</td>\n",
       "      <td>N</td>\n",
       "      <td>(6.5, 8.0]</td>\n",
       "      <td>(0.25, 0.5]</td>\n",
       "      <td>(0.25, 0.5]</td>\n",
       "      <td>16234</td>\n",
       "      <td>0</td>\n",
       "    </tr>\n",
       "    <tr>\n",
       "      <th>3</th>\n",
       "      <td>GRADO EN INGENIERÍA CIVIL - CONSTRUCCIONES CIV...</td>\n",
       "      <td>2009-10</td>\n",
       "      <td>1</td>\n",
       "      <td>JUN</td>\n",
       "      <td>Selectividad</td>\n",
       "      <td>D</td>\n",
       "      <td>(20.0, 25.0]</td>\n",
       "      <td>N</td>\n",
       "      <td>(6.5, 8.0]</td>\n",
       "      <td>(0.25, 0.5]</td>\n",
       "      <td>(0.25, 0.5]</td>\n",
       "      <td>16235</td>\n",
       "      <td>0</td>\n",
       "    </tr>\n",
       "    <tr>\n",
       "      <th>4</th>\n",
       "      <td>GRADO EN INGENIERÍA CIVIL - CONSTRUCCIONES CIV...</td>\n",
       "      <td>2009-10</td>\n",
       "      <td>0</td>\n",
       "      <td>JUN</td>\n",
       "      <td>Selectividad</td>\n",
       "      <td>H</td>\n",
       "      <td>(20.0, 25.0]</td>\n",
       "      <td>N</td>\n",
       "      <td>(6.5, 8.0]</td>\n",
       "      <td>(0.5, 0.75]</td>\n",
       "      <td>(-0.001, 0.25]</td>\n",
       "      <td>16236</td>\n",
       "      <td>3</td>\n",
       "    </tr>\n",
       "  </tbody>\n",
       "</table>\n",
       "</div>"
      ],
      "text/plain": [
       "                                            des_plan anio_apertura_expediente  \\\n",
       "0  GRADO EN INGENIERÍA CIVIL - CONSTRUCCIONES CIV...                  2009-10   \n",
       "1  GRADO EN INGENIERÍA CIVIL - CONSTRUCCIONES CIV...                  2009-10   \n",
       "2  GRADO EN INGENIERÍA CIVIL - CONSTRUCCIONES CIV...                  2009-10   \n",
       "3  GRADO EN INGENIERÍA CIVIL - CONSTRUCCIONES CIV...                  2009-10   \n",
       "4  GRADO EN INGENIERÍA CIVIL - CONSTRUCCIONES CIV...                  2009-10   \n",
       "\n",
       "   abandona convocatoria_acceso             des_acceso sexo   edad_acceso  \\\n",
       "0         0                 JUN           Selectividad    H  (20.0, 25.0]   \n",
       "1         0                 JUN           Selectividad    D  (20.0, 25.0]   \n",
       "2         0                 JUN  Formación Profesional    D  (25.0, 30.0]   \n",
       "3         1                 JUN           Selectividad    D  (20.0, 25.0]   \n",
       "4         0                 JUN           Selectividad    H  (20.0, 25.0]   \n",
       "\n",
       "  becario nota_admision_def_interval  cum_pass_ratio cum_absent_ratio  \\\n",
       "0       N                 (6.5, 8.0]  (-0.001, 0.25]      (0.25, 0.5]   \n",
       "1       N                 (6.5, 8.0]     (0.25, 0.5]      (0.25, 0.5]   \n",
       "2       N                 (6.5, 8.0]     (0.25, 0.5]      (0.25, 0.5]   \n",
       "3       N                 (6.5, 8.0]     (0.25, 0.5]      (0.25, 0.5]   \n",
       "4       N                 (6.5, 8.0]     (0.5, 0.75]   (-0.001, 0.25]   \n",
       "\n",
       "  exp_cod_plan  Cluster Labels  \n",
       "0        16231               0  \n",
       "1        16232               0  \n",
       "2        16234               0  \n",
       "3        16235               0  \n",
       "4        16236               3  "
      ]
     },
     "execution_count": 13,
     "metadata": {},
     "output_type": "execute_result"
    }
   ],
   "source": [
    "dset.head()"
   ]
  },
  {
   "cell_type": "code",
   "execution_count": 14,
   "metadata": {},
   "outputs": [
    {
     "data": {
      "text/plain": [
       "0    508\n",
       "3    370\n",
       "2    314\n",
       "1    278\n",
       "4    214\n",
       "Name: Cluster Labels, dtype: int64"
      ]
     },
     "execution_count": 14,
     "metadata": {},
     "output_type": "execute_result"
    }
   ],
   "source": [
    "dset['Cluster Labels'].value_counts()"
   ]
  },
  {
   "cell_type": "code",
   "execution_count": 15,
   "metadata": {},
   "outputs": [],
   "source": [
    "dset.to_csv('../../Data/For_analysis_and_modeling/4th_quadrimester/cluster_analys_data.csv')"
   ]
  }
 ],
 "metadata": {
  "kernelspec": {
   "display_name": "Python 3",
   "language": "python",
   "name": "python3"
  },
  "language_info": {
   "codemirror_mode": {
    "name": "ipython",
    "version": 3
   },
   "file_extension": ".py",
   "mimetype": "text/x-python",
   "name": "python",
   "nbconvert_exporter": "python",
   "pygments_lexer": "ipython3",
   "version": "3.8.10"
  }
 },
 "nbformat": 4,
 "nbformat_minor": 4
}
