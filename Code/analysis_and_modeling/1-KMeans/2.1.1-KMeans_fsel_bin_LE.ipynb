{
 "cells": [
  {
   "cell_type": "code",
   "execution_count": 1,
   "metadata": {},
   "outputs": [],
   "source": [
    "import random\n",
    "\n",
    "import numpy as np\n",
    "import pandas as pd\n",
    "import sklearn\n",
    "from sklearn import cluster                   # Algoritmos de clustering.\n",
    "from sklearn import datasets                  # Crear datasets.\n",
    "from sklearn import manifold                  # Algoritmos de reduccion de dimensionalidad.\n",
    "from sklearn import decomposition             # Módulo de reducción de dimensionalidad.\n",
    "from sklearn.utils import check_random_state  # Gestión de números aleatorios.\n",
    "\n",
    "# Clustering jerárquico y dendrograma.\n",
    "from scipy.spatial.distance import pdist\n",
    "from scipy.cluster.hierarchy import dendrogram, linkage, fcluster\n",
    "from sklearn.neighbors import NearestNeighbors\n",
    "\n",
    "# UMAP para reducción de dimensionalidad.\n",
    "import umap\n",
    "\n",
    "# Visualizacion.\n",
    "import matplotlib\n",
    "import matplotlib.pyplot as plt\n",
    "from sklearn.cluster import AffinityPropagation\n",
    "import sys \n",
    "import os\n",
    "sys.path.append(os.path.abspath('/home/fran/Escritorio/i3uex/education_drop_clustering/Code/analysis_and_modeling'))\n",
    "import dunn_index\n",
    "from sklearn import metrics\n",
    "\n",
    "%matplotlib inline"
   ]
  },
  {
   "cell_type": "code",
   "execution_count": 2,
   "metadata": {
    "scrolled": true
   },
   "outputs": [],
   "source": [
    "analys_personal_data = pd.read_csv('../../../Data/For_analysis_and_modeling/2nd_quadrimester/analys_personal_data.csv',sep='|')"
   ]
  },
  {
   "cell_type": "code",
   "execution_count": 3,
   "metadata": {
    "scrolled": true
   },
   "outputs": [
    {
     "data": {
      "text/html": [
       "<div>\n",
       "<style scoped>\n",
       "    .dataframe tbody tr th:only-of-type {\n",
       "        vertical-align: middle;\n",
       "    }\n",
       "\n",
       "    .dataframe tbody tr th {\n",
       "        vertical-align: top;\n",
       "    }\n",
       "\n",
       "    .dataframe thead th {\n",
       "        text-align: right;\n",
       "    }\n",
       "</style>\n",
       "<table border=\"1\" class=\"dataframe\">\n",
       "  <thead>\n",
       "    <tr style=\"text-align: right;\">\n",
       "      <th></th>\n",
       "      <th>expediente</th>\n",
       "      <th>cod_plan</th>\n",
       "      <th>des_plan</th>\n",
       "      <th>anio_apertura_expediente</th>\n",
       "      <th>abandona</th>\n",
       "      <th>convocatoria_acceso</th>\n",
       "      <th>des_acceso</th>\n",
       "      <th>nota_admision_def</th>\n",
       "      <th>sexo</th>\n",
       "      <th>edad_acceso</th>\n",
       "      <th>distance</th>\n",
       "      <th>becario</th>\n",
       "      <th>cum_pass_ratio</th>\n",
       "      <th>cum_absent_ratio</th>\n",
       "      <th>std_deviation</th>\n",
       "      <th>cum_median</th>\n",
       "      <th>cum_pass_median</th>\n",
       "      <th>cum_fail_median</th>\n",
       "    </tr>\n",
       "  </thead>\n",
       "  <tbody>\n",
       "    <tr>\n",
       "      <th>0</th>\n",
       "      <td>2</td>\n",
       "      <td>1623</td>\n",
       "      <td>GRADO EN INGENIERÍA CIVIL - CONSTRUCCIONES CIV...</td>\n",
       "      <td>2009-10</td>\n",
       "      <td>0</td>\n",
       "      <td>JUN</td>\n",
       "      <td>Selectividad</td>\n",
       "      <td>6.836</td>\n",
       "      <td>D</td>\n",
       "      <td>25</td>\n",
       "      <td>300.6305</td>\n",
       "      <td>S</td>\n",
       "      <td>0.235294</td>\n",
       "      <td>0.176471</td>\n",
       "      <td>1.990064</td>\n",
       "      <td>4.175</td>\n",
       "      <td>5.7</td>\n",
       "      <td>3.84</td>\n",
       "    </tr>\n",
       "    <tr>\n",
       "      <th>1</th>\n",
       "      <td>3</td>\n",
       "      <td>1623</td>\n",
       "      <td>GRADO EN INGENIERÍA CIVIL - CONSTRUCCIONES CIV...</td>\n",
       "      <td>2009-10</td>\n",
       "      <td>1</td>\n",
       "      <td>JUN</td>\n",
       "      <td>Formación Profesional</td>\n",
       "      <td>6.836</td>\n",
       "      <td>H</td>\n",
       "      <td>31</td>\n",
       "      <td>667.4115</td>\n",
       "      <td>S</td>\n",
       "      <td>0.312500</td>\n",
       "      <td>0.562500</td>\n",
       "      <td>1.566486</td>\n",
       "      <td>5.000</td>\n",
       "      <td>5.0</td>\n",
       "      <td>2.50</td>\n",
       "    </tr>\n",
       "    <tr>\n",
       "      <th>2</th>\n",
       "      <td>4</td>\n",
       "      <td>1623</td>\n",
       "      <td>GRADO EN INGENIERÍA CIVIL - CONSTRUCCIONES CIV...</td>\n",
       "      <td>2009-10</td>\n",
       "      <td>0</td>\n",
       "      <td>JUN</td>\n",
       "      <td>Formación Profesional</td>\n",
       "      <td>6.836</td>\n",
       "      <td>D</td>\n",
       "      <td>28</td>\n",
       "      <td>91.0020</td>\n",
       "      <td>N</td>\n",
       "      <td>0.166667</td>\n",
       "      <td>0.444444</td>\n",
       "      <td>1.345324</td>\n",
       "      <td>3.825</td>\n",
       "      <td>5.2</td>\n",
       "      <td>2.53</td>\n",
       "    </tr>\n",
       "    <tr>\n",
       "      <th>3</th>\n",
       "      <td>5</td>\n",
       "      <td>1623</td>\n",
       "      <td>GRADO EN INGENIERÍA CIVIL - CONSTRUCCIONES CIV...</td>\n",
       "      <td>2009-10</td>\n",
       "      <td>1</td>\n",
       "      <td>JUN</td>\n",
       "      <td>Selectividad</td>\n",
       "      <td>6.730</td>\n",
       "      <td>D</td>\n",
       "      <td>25</td>\n",
       "      <td>91.0020</td>\n",
       "      <td>N</td>\n",
       "      <td>0.263158</td>\n",
       "      <td>0.315789</td>\n",
       "      <td>1.850120</td>\n",
       "      <td>3.670</td>\n",
       "      <td>5.4</td>\n",
       "      <td>2.50</td>\n",
       "    </tr>\n",
       "    <tr>\n",
       "      <th>4</th>\n",
       "      <td>6</td>\n",
       "      <td>1623</td>\n",
       "      <td>GRADO EN INGENIERÍA CIVIL - CONSTRUCCIONES CIV...</td>\n",
       "      <td>2009-10</td>\n",
       "      <td>0</td>\n",
       "      <td>JUN</td>\n",
       "      <td>Selectividad</td>\n",
       "      <td>6.836</td>\n",
       "      <td>H</td>\n",
       "      <td>25</td>\n",
       "      <td>91.0020</td>\n",
       "      <td>N</td>\n",
       "      <td>1.000000</td>\n",
       "      <td>0.000000</td>\n",
       "      <td>1.339003</td>\n",
       "      <td>7.000</td>\n",
       "      <td>7.0</td>\n",
       "      <td>0.00</td>\n",
       "    </tr>\n",
       "  </tbody>\n",
       "</table>\n",
       "</div>"
      ],
      "text/plain": [
       "   expediente  cod_plan                                           des_plan  \\\n",
       "0           2      1623  GRADO EN INGENIERÍA CIVIL - CONSTRUCCIONES CIV...   \n",
       "1           3      1623  GRADO EN INGENIERÍA CIVIL - CONSTRUCCIONES CIV...   \n",
       "2           4      1623  GRADO EN INGENIERÍA CIVIL - CONSTRUCCIONES CIV...   \n",
       "3           5      1623  GRADO EN INGENIERÍA CIVIL - CONSTRUCCIONES CIV...   \n",
       "4           6      1623  GRADO EN INGENIERÍA CIVIL - CONSTRUCCIONES CIV...   \n",
       "\n",
       "  anio_apertura_expediente  abandona convocatoria_acceso  \\\n",
       "0                  2009-10         0                 JUN   \n",
       "1                  2009-10         1                 JUN   \n",
       "2                  2009-10         0                 JUN   \n",
       "3                  2009-10         1                 JUN   \n",
       "4                  2009-10         0                 JUN   \n",
       "\n",
       "              des_acceso  nota_admision_def sexo  edad_acceso  distance  \\\n",
       "0           Selectividad              6.836    D           25  300.6305   \n",
       "1  Formación Profesional              6.836    H           31  667.4115   \n",
       "2  Formación Profesional              6.836    D           28   91.0020   \n",
       "3           Selectividad              6.730    D           25   91.0020   \n",
       "4           Selectividad              6.836    H           25   91.0020   \n",
       "\n",
       "  becario  cum_pass_ratio  cum_absent_ratio  std_deviation  cum_median  \\\n",
       "0       S        0.235294          0.176471       1.990064       4.175   \n",
       "1       S        0.312500          0.562500       1.566486       5.000   \n",
       "2       N        0.166667          0.444444       1.345324       3.825   \n",
       "3       N        0.263158          0.315789       1.850120       3.670   \n",
       "4       N        1.000000          0.000000       1.339003       7.000   \n",
       "\n",
       "   cum_pass_median  cum_fail_median  \n",
       "0              5.7             3.84  \n",
       "1              5.0             2.50  \n",
       "2              5.2             2.53  \n",
       "3              5.4             2.50  \n",
       "4              7.0             0.00  "
      ]
     },
     "execution_count": 3,
     "metadata": {},
     "output_type": "execute_result"
    }
   ],
   "source": [
    "analys_personal_data.head()"
   ]
  },
  {
   "cell_type": "code",
   "execution_count": 4,
   "metadata": {},
   "outputs": [],
   "source": [
    "interval_cols = []"
   ]
  },
  {
   "cell_type": "code",
   "execution_count": 5,
   "metadata": {},
   "outputs": [],
   "source": [
    "analys_personal_data_model = analys_personal_data.copy()"
   ]
  },
  {
   "cell_type": "code",
   "execution_count": 6,
   "metadata": {},
   "outputs": [
    {
     "data": {
      "text/html": [
       "<div>\n",
       "<style scoped>\n",
       "    .dataframe tbody tr th:only-of-type {\n",
       "        vertical-align: middle;\n",
       "    }\n",
       "\n",
       "    .dataframe tbody tr th {\n",
       "        vertical-align: top;\n",
       "    }\n",
       "\n",
       "    .dataframe thead th {\n",
       "        text-align: right;\n",
       "    }\n",
       "</style>\n",
       "<table border=\"1\" class=\"dataframe\">\n",
       "  <thead>\n",
       "    <tr style=\"text-align: right;\">\n",
       "      <th></th>\n",
       "      <th>expediente</th>\n",
       "      <th>cod_plan</th>\n",
       "      <th>des_plan</th>\n",
       "      <th>anio_apertura_expediente</th>\n",
       "      <th>abandona</th>\n",
       "      <th>convocatoria_acceso</th>\n",
       "      <th>des_acceso</th>\n",
       "      <th>nota_admision_def</th>\n",
       "      <th>sexo</th>\n",
       "      <th>edad_acceso</th>\n",
       "      <th>distance</th>\n",
       "      <th>becario</th>\n",
       "      <th>cum_pass_ratio</th>\n",
       "      <th>cum_absent_ratio</th>\n",
       "      <th>std_deviation</th>\n",
       "      <th>cum_median</th>\n",
       "      <th>cum_pass_median</th>\n",
       "      <th>cum_fail_median</th>\n",
       "    </tr>\n",
       "  </thead>\n",
       "  <tbody>\n",
       "    <tr>\n",
       "      <th>0</th>\n",
       "      <td>2</td>\n",
       "      <td>1623</td>\n",
       "      <td>GRADO EN INGENIERÍA CIVIL - CONSTRUCCIONES CIV...</td>\n",
       "      <td>2009-10</td>\n",
       "      <td>0</td>\n",
       "      <td>JUN</td>\n",
       "      <td>Selectividad</td>\n",
       "      <td>6.836</td>\n",
       "      <td>D</td>\n",
       "      <td>25</td>\n",
       "      <td>300.6305</td>\n",
       "      <td>S</td>\n",
       "      <td>0.235294</td>\n",
       "      <td>0.176471</td>\n",
       "      <td>1.990064</td>\n",
       "      <td>4.175</td>\n",
       "      <td>5.7</td>\n",
       "      <td>3.84</td>\n",
       "    </tr>\n",
       "    <tr>\n",
       "      <th>1</th>\n",
       "      <td>3</td>\n",
       "      <td>1623</td>\n",
       "      <td>GRADO EN INGENIERÍA CIVIL - CONSTRUCCIONES CIV...</td>\n",
       "      <td>2009-10</td>\n",
       "      <td>1</td>\n",
       "      <td>JUN</td>\n",
       "      <td>Formación Profesional</td>\n",
       "      <td>6.836</td>\n",
       "      <td>H</td>\n",
       "      <td>31</td>\n",
       "      <td>667.4115</td>\n",
       "      <td>S</td>\n",
       "      <td>0.312500</td>\n",
       "      <td>0.562500</td>\n",
       "      <td>1.566486</td>\n",
       "      <td>5.000</td>\n",
       "      <td>5.0</td>\n",
       "      <td>2.50</td>\n",
       "    </tr>\n",
       "    <tr>\n",
       "      <th>2</th>\n",
       "      <td>4</td>\n",
       "      <td>1623</td>\n",
       "      <td>GRADO EN INGENIERÍA CIVIL - CONSTRUCCIONES CIV...</td>\n",
       "      <td>2009-10</td>\n",
       "      <td>0</td>\n",
       "      <td>JUN</td>\n",
       "      <td>Formación Profesional</td>\n",
       "      <td>6.836</td>\n",
       "      <td>D</td>\n",
       "      <td>28</td>\n",
       "      <td>91.0020</td>\n",
       "      <td>N</td>\n",
       "      <td>0.166667</td>\n",
       "      <td>0.444444</td>\n",
       "      <td>1.345324</td>\n",
       "      <td>3.825</td>\n",
       "      <td>5.2</td>\n",
       "      <td>2.53</td>\n",
       "    </tr>\n",
       "    <tr>\n",
       "      <th>3</th>\n",
       "      <td>5</td>\n",
       "      <td>1623</td>\n",
       "      <td>GRADO EN INGENIERÍA CIVIL - CONSTRUCCIONES CIV...</td>\n",
       "      <td>2009-10</td>\n",
       "      <td>1</td>\n",
       "      <td>JUN</td>\n",
       "      <td>Selectividad</td>\n",
       "      <td>6.730</td>\n",
       "      <td>D</td>\n",
       "      <td>25</td>\n",
       "      <td>91.0020</td>\n",
       "      <td>N</td>\n",
       "      <td>0.263158</td>\n",
       "      <td>0.315789</td>\n",
       "      <td>1.850120</td>\n",
       "      <td>3.670</td>\n",
       "      <td>5.4</td>\n",
       "      <td>2.50</td>\n",
       "    </tr>\n",
       "    <tr>\n",
       "      <th>4</th>\n",
       "      <td>6</td>\n",
       "      <td>1623</td>\n",
       "      <td>GRADO EN INGENIERÍA CIVIL - CONSTRUCCIONES CIV...</td>\n",
       "      <td>2009-10</td>\n",
       "      <td>0</td>\n",
       "      <td>JUN</td>\n",
       "      <td>Selectividad</td>\n",
       "      <td>6.836</td>\n",
       "      <td>H</td>\n",
       "      <td>25</td>\n",
       "      <td>91.0020</td>\n",
       "      <td>N</td>\n",
       "      <td>1.000000</td>\n",
       "      <td>0.000000</td>\n",
       "      <td>1.339003</td>\n",
       "      <td>7.000</td>\n",
       "      <td>7.0</td>\n",
       "      <td>0.00</td>\n",
       "    </tr>\n",
       "  </tbody>\n",
       "</table>\n",
       "</div>"
      ],
      "text/plain": [
       "   expediente  cod_plan                                           des_plan  \\\n",
       "0           2      1623  GRADO EN INGENIERÍA CIVIL - CONSTRUCCIONES CIV...   \n",
       "1           3      1623  GRADO EN INGENIERÍA CIVIL - CONSTRUCCIONES CIV...   \n",
       "2           4      1623  GRADO EN INGENIERÍA CIVIL - CONSTRUCCIONES CIV...   \n",
       "3           5      1623  GRADO EN INGENIERÍA CIVIL - CONSTRUCCIONES CIV...   \n",
       "4           6      1623  GRADO EN INGENIERÍA CIVIL - CONSTRUCCIONES CIV...   \n",
       "\n",
       "  anio_apertura_expediente  abandona convocatoria_acceso  \\\n",
       "0                  2009-10         0                 JUN   \n",
       "1                  2009-10         1                 JUN   \n",
       "2                  2009-10         0                 JUN   \n",
       "3                  2009-10         1                 JUN   \n",
       "4                  2009-10         0                 JUN   \n",
       "\n",
       "              des_acceso  nota_admision_def sexo  edad_acceso  distance  \\\n",
       "0           Selectividad              6.836    D           25  300.6305   \n",
       "1  Formación Profesional              6.836    H           31  667.4115   \n",
       "2  Formación Profesional              6.836    D           28   91.0020   \n",
       "3           Selectividad              6.730    D           25   91.0020   \n",
       "4           Selectividad              6.836    H           25   91.0020   \n",
       "\n",
       "  becario  cum_pass_ratio  cum_absent_ratio  std_deviation  cum_median  \\\n",
       "0       S        0.235294          0.176471       1.990064       4.175   \n",
       "1       S        0.312500          0.562500       1.566486       5.000   \n",
       "2       N        0.166667          0.444444       1.345324       3.825   \n",
       "3       N        0.263158          0.315789       1.850120       3.670   \n",
       "4       N        1.000000          0.000000       1.339003       7.000   \n",
       "\n",
       "   cum_pass_median  cum_fail_median  \n",
       "0              5.7             3.84  \n",
       "1              5.0             2.50  \n",
       "2              5.2             2.53  \n",
       "3              5.4             2.50  \n",
       "4              7.0             0.00  "
      ]
     },
     "execution_count": 6,
     "metadata": {},
     "output_type": "execute_result"
    }
   ],
   "source": [
    "analys_personal_data_model.head()"
   ]
  },
  {
   "cell_type": "code",
   "execution_count": 7,
   "metadata": {
    "scrolled": true
   },
   "outputs": [],
   "source": [
    "analys_personal_data_model.drop(['expediente','cod_plan','abandona','distance','becario','des_acceso'],axis=1,inplace=True)"
   ]
  },
  {
   "cell_type": "code",
   "execution_count": 8,
   "metadata": {},
   "outputs": [
    {
     "data": {
      "text/html": [
       "<div>\n",
       "<style scoped>\n",
       "    .dataframe tbody tr th:only-of-type {\n",
       "        vertical-align: middle;\n",
       "    }\n",
       "\n",
       "    .dataframe tbody tr th {\n",
       "        vertical-align: top;\n",
       "    }\n",
       "\n",
       "    .dataframe thead th {\n",
       "        text-align: right;\n",
       "    }\n",
       "</style>\n",
       "<table border=\"1\" class=\"dataframe\">\n",
       "  <thead>\n",
       "    <tr style=\"text-align: right;\">\n",
       "      <th></th>\n",
       "      <th>des_plan</th>\n",
       "      <th>anio_apertura_expediente</th>\n",
       "      <th>convocatoria_acceso</th>\n",
       "      <th>nota_admision_def</th>\n",
       "      <th>sexo</th>\n",
       "      <th>edad_acceso</th>\n",
       "      <th>cum_pass_ratio</th>\n",
       "      <th>cum_absent_ratio</th>\n",
       "      <th>std_deviation</th>\n",
       "      <th>cum_median</th>\n",
       "      <th>cum_pass_median</th>\n",
       "      <th>cum_fail_median</th>\n",
       "    </tr>\n",
       "  </thead>\n",
       "  <tbody>\n",
       "    <tr>\n",
       "      <th>0</th>\n",
       "      <td>GRADO EN INGENIERÍA CIVIL - CONSTRUCCIONES CIV...</td>\n",
       "      <td>2009-10</td>\n",
       "      <td>JUN</td>\n",
       "      <td>6.836</td>\n",
       "      <td>D</td>\n",
       "      <td>25</td>\n",
       "      <td>0.235294</td>\n",
       "      <td>0.176471</td>\n",
       "      <td>1.990064</td>\n",
       "      <td>4.175</td>\n",
       "      <td>5.7</td>\n",
       "      <td>3.84</td>\n",
       "    </tr>\n",
       "    <tr>\n",
       "      <th>1</th>\n",
       "      <td>GRADO EN INGENIERÍA CIVIL - CONSTRUCCIONES CIV...</td>\n",
       "      <td>2009-10</td>\n",
       "      <td>JUN</td>\n",
       "      <td>6.836</td>\n",
       "      <td>H</td>\n",
       "      <td>31</td>\n",
       "      <td>0.312500</td>\n",
       "      <td>0.562500</td>\n",
       "      <td>1.566486</td>\n",
       "      <td>5.000</td>\n",
       "      <td>5.0</td>\n",
       "      <td>2.50</td>\n",
       "    </tr>\n",
       "    <tr>\n",
       "      <th>2</th>\n",
       "      <td>GRADO EN INGENIERÍA CIVIL - CONSTRUCCIONES CIV...</td>\n",
       "      <td>2009-10</td>\n",
       "      <td>JUN</td>\n",
       "      <td>6.836</td>\n",
       "      <td>D</td>\n",
       "      <td>28</td>\n",
       "      <td>0.166667</td>\n",
       "      <td>0.444444</td>\n",
       "      <td>1.345324</td>\n",
       "      <td>3.825</td>\n",
       "      <td>5.2</td>\n",
       "      <td>2.53</td>\n",
       "    </tr>\n",
       "    <tr>\n",
       "      <th>3</th>\n",
       "      <td>GRADO EN INGENIERÍA CIVIL - CONSTRUCCIONES CIV...</td>\n",
       "      <td>2009-10</td>\n",
       "      <td>JUN</td>\n",
       "      <td>6.730</td>\n",
       "      <td>D</td>\n",
       "      <td>25</td>\n",
       "      <td>0.263158</td>\n",
       "      <td>0.315789</td>\n",
       "      <td>1.850120</td>\n",
       "      <td>3.670</td>\n",
       "      <td>5.4</td>\n",
       "      <td>2.50</td>\n",
       "    </tr>\n",
       "    <tr>\n",
       "      <th>4</th>\n",
       "      <td>GRADO EN INGENIERÍA CIVIL - CONSTRUCCIONES CIV...</td>\n",
       "      <td>2009-10</td>\n",
       "      <td>JUN</td>\n",
       "      <td>6.836</td>\n",
       "      <td>H</td>\n",
       "      <td>25</td>\n",
       "      <td>1.000000</td>\n",
       "      <td>0.000000</td>\n",
       "      <td>1.339003</td>\n",
       "      <td>7.000</td>\n",
       "      <td>7.0</td>\n",
       "      <td>0.00</td>\n",
       "    </tr>\n",
       "  </tbody>\n",
       "</table>\n",
       "</div>"
      ],
      "text/plain": [
       "                                            des_plan anio_apertura_expediente  \\\n",
       "0  GRADO EN INGENIERÍA CIVIL - CONSTRUCCIONES CIV...                  2009-10   \n",
       "1  GRADO EN INGENIERÍA CIVIL - CONSTRUCCIONES CIV...                  2009-10   \n",
       "2  GRADO EN INGENIERÍA CIVIL - CONSTRUCCIONES CIV...                  2009-10   \n",
       "3  GRADO EN INGENIERÍA CIVIL - CONSTRUCCIONES CIV...                  2009-10   \n",
       "4  GRADO EN INGENIERÍA CIVIL - CONSTRUCCIONES CIV...                  2009-10   \n",
       "\n",
       "  convocatoria_acceso  nota_admision_def sexo  edad_acceso  cum_pass_ratio  \\\n",
       "0                 JUN              6.836    D           25        0.235294   \n",
       "1                 JUN              6.836    H           31        0.312500   \n",
       "2                 JUN              6.836    D           28        0.166667   \n",
       "3                 JUN              6.730    D           25        0.263158   \n",
       "4                 JUN              6.836    H           25        1.000000   \n",
       "\n",
       "   cum_absent_ratio  std_deviation  cum_median  cum_pass_median  \\\n",
       "0          0.176471       1.990064       4.175              5.7   \n",
       "1          0.562500       1.566486       5.000              5.0   \n",
       "2          0.444444       1.345324       3.825              5.2   \n",
       "3          0.315789       1.850120       3.670              5.4   \n",
       "4          0.000000       1.339003       7.000              7.0   \n",
       "\n",
       "   cum_fail_median  \n",
       "0             3.84  \n",
       "1             2.50  \n",
       "2             2.53  \n",
       "3             2.50  \n",
       "4             0.00  "
      ]
     },
     "execution_count": 8,
     "metadata": {},
     "output_type": "execute_result"
    }
   ],
   "source": [
    "analys_personal_data_model.head()"
   ]
  },
  {
   "cell_type": "code",
   "execution_count": 9,
   "metadata": {},
   "outputs": [
    {
     "data": {
      "text/plain": [
       "12"
      ]
     },
     "execution_count": 9,
     "metadata": {},
     "output_type": "execute_result"
    }
   ],
   "source": [
    "len(analys_personal_data_model.columns)"
   ]
  },
  {
   "cell_type": "code",
   "execution_count": 10,
   "metadata": {},
   "outputs": [
    {
     "data": {
      "text/plain": [
       "Index(['des_plan', 'anio_apertura_expediente', 'convocatoria_acceso',\n",
       "       'nota_admision_def', 'sexo', 'edad_acceso', 'cum_pass_ratio',\n",
       "       'cum_absent_ratio', 'std_deviation', 'cum_median', 'cum_pass_median',\n",
       "       'cum_fail_median'],\n",
       "      dtype='object')"
      ]
     },
     "execution_count": 10,
     "metadata": {},
     "output_type": "execute_result"
    }
   ],
   "source": [
    "analys_personal_data_model.columns"
   ]
  },
  {
   "cell_type": "code",
   "execution_count": 11,
   "metadata": {},
   "outputs": [],
   "source": [
    "\n",
    "note_bcket_array = np.array([5, 6.5, 8, 9.5, 10, 11.5, 13, 14])\n",
    "analys_personal_data_model['nota_admision_def'] = pd.cut(\n",
    "    analys_personal_data_model['nota_admision_def'], note_bcket_array, include_lowest=True)\n",
    "interval_cols.append('nota_admision_def')\n",
    "\n",
    "year_bcket_array = np.array([18, 20, 25, 30, 35, 40, 45, 50, 55, 60])\n",
    "analys_personal_data_model['edad_acceso'] = pd.cut(\n",
    "    analys_personal_data_model['edad_acceso'], year_bcket_array, include_lowest=True)\n",
    "interval_cols.append('edad_acceso')\n",
    "\n",
    "\n",
    "# distance_bcket_array = np.array([0, 0.1, 45, 90, 135, 250, 500, 1892])\n",
    "# analys_personal_data_model['distance'] = pd.cut(\n",
    "#     analys_personal_data_model['distance'], distance_bcket_array, include_lowest=True)\n",
    "# interval_cols.append('distance')\n",
    "\n",
    "note_bcket_array = np.array([0, 1.5, 3, 4.5, 6, 7.5, 9, 10])\n",
    "analys_personal_data_model['cum_median'] = pd.cut(\n",
    "    analys_personal_data_model['cum_median'], note_bcket_array, include_lowest=True)\n",
    "interval_cols.append('cum_median')\n",
    "\n",
    "analys_personal_data_model['cum_pass_median'] = pd.cut(\n",
    "    analys_personal_data_model['cum_pass_median'], note_bcket_array, include_lowest=True)\n",
    "interval_cols.append('cum_pass_median')\n",
    "\n",
    "analys_personal_data_model['cum_fail_median'] = pd.cut(\n",
    "    analys_personal_data_model['cum_fail_median'], note_bcket_array, include_lowest=True)\n",
    "interval_cols.append('cum_fail_median')\n",
    "\n",
    "ratio_bcket_array = np.array([0, 0.25, 0.5, 0.75, 1])\n",
    "analys_personal_data_model['cum_pass_ratio'] = pd.cut(\n",
    "    analys_personal_data_model['cum_pass_ratio'], ratio_bcket_array, include_lowest=True)\n",
    "interval_cols.append('cum_pass_ratio')\n",
    "\n",
    "analys_personal_data_model['cum_absent_ratio'] = pd.cut(\n",
    "    analys_personal_data_model['cum_absent_ratio'], ratio_bcket_array, include_lowest=True)\n",
    "interval_cols.append('cum_absent_ratio')\n",
    "\n",
    "std_bcket_array = np.array([0, 0.05,1.15,1.25,2.15,3.25])\n",
    "analys_personal_data_model['std_deviation'] = pd.cut(\n",
    "    analys_personal_data_model['std_deviation'], std_bcket_array, include_lowest=True)\n",
    "interval_cols.append('std_deviation')\n"
   ]
  },
  {
   "cell_type": "code",
   "execution_count": 12,
   "metadata": {},
   "outputs": [
    {
     "data": {
      "text/plain": [
       "(1.25, 2.15]      1109\n",
       "(2.15, 3.25]       242\n",
       "(0.05, 1.15]       237\n",
       "(-0.001, 0.05]     120\n",
       "(1.15, 1.25]        65\n",
       "Name: std_deviation, dtype: int64"
      ]
     },
     "execution_count": 12,
     "metadata": {},
     "output_type": "execute_result"
    }
   ],
   "source": [
    "analys_personal_data_model['std_deviation'].value_counts()"
   ]
  },
  {
   "cell_type": "code",
   "execution_count": 13,
   "metadata": {},
   "outputs": [],
   "source": [
    "def le_dataset(dset, le_cols, cat_cols):\n",
    "    from sklearn import preprocessing\n",
    "    for col in cat_cols:\n",
    "        le = preprocessing.LabelEncoder()\n",
    "        le.fit(dset[col].cat.categories)\n",
    "        le_cols.append(le)\n",
    "        dset[col] = le.transform(dset[col])"
   ]
  },
  {
   "cell_type": "code",
   "execution_count": 14,
   "metadata": {},
   "outputs": [],
   "source": [
    "def inverse_le_dataset(dset, le_cols, cat_cols):\n",
    "    from sklearn import preprocessing\n",
    "    i = 0\n",
    "    for col in cat_cols:\n",
    "        le = le_cols[i]\n",
    "        from sklearn import preprocessing\n",
    "        dset[col] = le.inverse_transform(dset[col])\n",
    "        i +=1"
   ]
  },
  {
   "cell_type": "code",
   "execution_count": 15,
   "metadata": {},
   "outputs": [],
   "source": [
    "def get_dunn_index(data, labels):\n",
    "    from sklearn.metrics.pairwise import euclidean_distances\n",
    "    distances = euclidean_distances(data)\n",
    "    return dunn_index.dunn(labels,distances)\n",
    "    "
   ]
  },
  {
   "cell_type": "code",
   "execution_count": 16,
   "metadata": {},
   "outputs": [
    {
     "data": {
      "text/html": [
       "<div>\n",
       "<style scoped>\n",
       "    .dataframe tbody tr th:only-of-type {\n",
       "        vertical-align: middle;\n",
       "    }\n",
       "\n",
       "    .dataframe tbody tr th {\n",
       "        vertical-align: top;\n",
       "    }\n",
       "\n",
       "    .dataframe thead th {\n",
       "        text-align: right;\n",
       "    }\n",
       "</style>\n",
       "<table border=\"1\" class=\"dataframe\">\n",
       "  <thead>\n",
       "    <tr style=\"text-align: right;\">\n",
       "      <th></th>\n",
       "      <th>des_plan</th>\n",
       "      <th>anio_apertura_expediente</th>\n",
       "      <th>convocatoria_acceso</th>\n",
       "      <th>nota_admision_def</th>\n",
       "      <th>sexo</th>\n",
       "      <th>edad_acceso</th>\n",
       "      <th>cum_pass_ratio</th>\n",
       "      <th>cum_absent_ratio</th>\n",
       "      <th>std_deviation</th>\n",
       "      <th>cum_median</th>\n",
       "      <th>cum_pass_median</th>\n",
       "      <th>cum_fail_median</th>\n",
       "    </tr>\n",
       "  </thead>\n",
       "  <tbody>\n",
       "    <tr>\n",
       "      <th>0</th>\n",
       "      <td>1</td>\n",
       "      <td>1</td>\n",
       "      <td>4</td>\n",
       "      <td>1</td>\n",
       "      <td>0</td>\n",
       "      <td>1</td>\n",
       "      <td>0</td>\n",
       "      <td>0</td>\n",
       "      <td>3</td>\n",
       "      <td>2</td>\n",
       "      <td>3</td>\n",
       "      <td>2</td>\n",
       "    </tr>\n",
       "    <tr>\n",
       "      <th>1</th>\n",
       "      <td>1</td>\n",
       "      <td>1</td>\n",
       "      <td>4</td>\n",
       "      <td>1</td>\n",
       "      <td>1</td>\n",
       "      <td>3</td>\n",
       "      <td>1</td>\n",
       "      <td>2</td>\n",
       "      <td>3</td>\n",
       "      <td>3</td>\n",
       "      <td>3</td>\n",
       "      <td>1</td>\n",
       "    </tr>\n",
       "    <tr>\n",
       "      <th>2</th>\n",
       "      <td>1</td>\n",
       "      <td>1</td>\n",
       "      <td>4</td>\n",
       "      <td>1</td>\n",
       "      <td>0</td>\n",
       "      <td>2</td>\n",
       "      <td>0</td>\n",
       "      <td>1</td>\n",
       "      <td>3</td>\n",
       "      <td>2</td>\n",
       "      <td>3</td>\n",
       "      <td>1</td>\n",
       "    </tr>\n",
       "    <tr>\n",
       "      <th>3</th>\n",
       "      <td>1</td>\n",
       "      <td>1</td>\n",
       "      <td>4</td>\n",
       "      <td>1</td>\n",
       "      <td>0</td>\n",
       "      <td>1</td>\n",
       "      <td>1</td>\n",
       "      <td>1</td>\n",
       "      <td>3</td>\n",
       "      <td>2</td>\n",
       "      <td>3</td>\n",
       "      <td>1</td>\n",
       "    </tr>\n",
       "    <tr>\n",
       "      <th>4</th>\n",
       "      <td>1</td>\n",
       "      <td>1</td>\n",
       "      <td>4</td>\n",
       "      <td>1</td>\n",
       "      <td>1</td>\n",
       "      <td>1</td>\n",
       "      <td>3</td>\n",
       "      <td>0</td>\n",
       "      <td>3</td>\n",
       "      <td>4</td>\n",
       "      <td>4</td>\n",
       "      <td>0</td>\n",
       "    </tr>\n",
       "  </tbody>\n",
       "</table>\n",
       "</div>"
      ],
      "text/plain": [
       "   des_plan  anio_apertura_expediente  convocatoria_acceso  nota_admision_def  \\\n",
       "0         1                         1                    4                  1   \n",
       "1         1                         1                    4                  1   \n",
       "2         1                         1                    4                  1   \n",
       "3         1                         1                    4                  1   \n",
       "4         1                         1                    4                  1   \n",
       "\n",
       "   sexo  edad_acceso  cum_pass_ratio  cum_absent_ratio  std_deviation  \\\n",
       "0     0            1               0                 0              3   \n",
       "1     1            3               1                 2              3   \n",
       "2     0            2               0                 1              3   \n",
       "3     0            1               1                 1              3   \n",
       "4     1            1               3                 0              3   \n",
       "\n",
       "   cum_median  cum_pass_median  cum_fail_median  \n",
       "0           2                3                2  \n",
       "1           3                3                1  \n",
       "2           2                3                1  \n",
       "3           2                3                1  \n",
       "4           4                4                0  "
      ]
     },
     "execution_count": 16,
     "metadata": {},
     "output_type": "execute_result"
    }
   ],
   "source": [
    "for col in analys_personal_data_model.columns:\n",
    "    if 'object' in str(analys_personal_data_model.dtypes[col]):\n",
    "        analys_personal_data_model[col] = analys_personal_data_model[col].astype('category')\n",
    "        \n",
    "le_cols = []\n",
    "cat_cols = analys_personal_data_model.columns\n",
    "analys_personal_data_labels = analys_personal_data_model.copy()\n",
    "le_dataset(analys_personal_data_labels,le_cols,cat_cols)\n",
    "analys_personal_data_labels.head()"
   ]
  },
  {
   "cell_type": "code",
   "execution_count": 17,
   "metadata": {},
   "outputs": [],
   "source": [
    "from sklearn.preprocessing import MinMaxScaler\n",
    "\n",
    "norm = MinMaxScaler().fit(analys_personal_data_labels)\n",
    "analys_personal_data_labels[analys_personal_data_labels.columns] = norm.transform(analys_personal_data_labels)"
   ]
  },
  {
   "cell_type": "code",
   "execution_count": 18,
   "metadata": {},
   "outputs": [],
   "source": [
    "from sklearn import cluster\n",
    "K = range(1, 10)\n",
    "sse = []\n",
    "for k in K:\n",
    "    kmeans = cluster.KMeans(n_clusters=k)\n",
    "    kmeans.fit(analys_personal_data_labels)\n",
    "    sse.append(kmeans.inertia_)\n"
   ]
  },
  {
   "cell_type": "code",
   "execution_count": 19,
   "metadata": {
    "scrolled": false
   },
   "outputs": [
    {
     "data": {
      "image/png": "[encoded data removed]",
      "text/plain": [
       "<Figure size 432x288 with 1 Axes>"
      ]
     },
     "metadata": {
      "needs_background": "light"
     },
     "output_type": "display_data"
    }
   ],
   "source": [
    "import matplotlib.pyplot as plt\n",
    "plt.plot(K, sse, marker='o')\n",
    "plt.xlabel('Number of clusters')\n",
    "plt.ylabel('Distortion')\n",
    "plt.show()"
   ]
  },
  {
   "cell_type": "code",
   "execution_count": 20,
   "metadata": {},
   "outputs": [],
   "source": [
    "kmeans = cluster.KMeans(n_clusters=2,random_state=70)\n",
    "kmeans.fit(analys_personal_data_labels)\n",
    "analys_personal_data_clust = analys_personal_data_labels.copy()\n",
    "analys_personal_data_clust['labels'] = kmeans.predict(analys_personal_data_labels)\n",
    "analys_personal_data['labels'] = analys_personal_data_clust['labels'].astype('category')\n"
   ]
  },
  {
   "cell_type": "code",
   "execution_count": 21,
   "metadata": {},
   "outputs": [
    {
     "data": {
      "text/plain": [
       "0.35849507876271053"
      ]
     },
     "execution_count": 21,
     "metadata": {},
     "output_type": "execute_result"
    }
   ],
   "source": [
    "metrics.silhouette_score(analys_personal_data_clust, analys_personal_data_clust['labels'])\n"
   ]
  },
  {
   "cell_type": "code",
   "execution_count": 22,
   "metadata": {},
   "outputs": [
    {
     "data": {
      "text/plain": [
       "1128.0824712855529"
      ]
     },
     "execution_count": 22,
     "metadata": {},
     "output_type": "execute_result"
    }
   ],
   "source": [
    "metrics.calinski_harabasz_score(analys_personal_data_clust, analys_personal_data_clust['labels'])\n"
   ]
  },
  {
   "cell_type": "code",
   "execution_count": 23,
   "metadata": {
    "scrolled": true
   },
   "outputs": [
    {
     "data": {
      "text/plain": [
       "1.1901318369059901"
      ]
     },
     "execution_count": 23,
     "metadata": {},
     "output_type": "execute_result"
    }
   ],
   "source": [
    "metrics.davies_bouldin_score(analys_personal_data_clust, analys_personal_data_clust['labels'])\n"
   ]
  },
  {
   "cell_type": "code",
   "execution_count": 24,
   "metadata": {
    "scrolled": false
   },
   "outputs": [
    {
     "data": {
      "text/plain": [
       "0.40945816396491436"
      ]
     },
     "execution_count": 24,
     "metadata": {},
     "output_type": "execute_result"
    }
   ],
   "source": [
    "get_dunn_index(analys_personal_data_clust,analys_personal_data_clust['labels'])"
   ]
  },
  {
   "cell_type": "code",
   "execution_count": 25,
   "metadata": {},
   "outputs": [],
   "source": [
    "import pandas as pd\n",
    "def get_impurity(dropout_cl0: pd.core.series.Series, dropout_cl1:pd.core.series.Series):\n",
    "    impurity = -1\n",
    "    n = len (dropout_cl0) + len (dropout_cl1)\n",
    "    if len(dropout_cl0[dropout_cl0 == 0]) > len(dropout_cl0[dropout_cl0 == 1]):\n",
    "        impurity = (len(dropout_cl0) - len(dropout_cl0[dropout_cl0 == 0]))/n\n",
    "    else:\n",
    "        impurity = (len(dropout_cl0) - len(dropout_cl0[dropout_cl0 == 1]))/n\n",
    "    if len(dropout_cl1[dropout_cl1 == 0]) > len(dropout_cl1[dropout_cl1 == 1]):\n",
    "        impurity = impurity + ((len(dropout_cl1) - len(dropout_cl1[dropout_cl1 == 0]))/n)\n",
    "    else:\n",
    "        impurity = impurity + ((len(dropout_cl1) - len(dropout_cl1[dropout_cl1 == 1]))/n)\n",
    "        \n",
    "    return impurity"
   ]
  },
  {
   "cell_type": "code",
   "execution_count": 26,
   "metadata": {},
   "outputs": [],
   "source": [
    "analys_personal_data_clust['abandona'] = analys_personal_data['abandona']"
   ]
  },
  {
   "cell_type": "code",
   "execution_count": 27,
   "metadata": {},
   "outputs": [
    {
     "data": {
      "text/plain": [
       "0.24478285391990978"
      ]
     },
     "execution_count": 27,
     "metadata": {},
     "output_type": "execute_result"
    }
   ],
   "source": [
    "get_impurity(analys_personal_data_clust[analys_personal_data_clust['labels']==0]['abandona'], analys_personal_data_clust[analys_personal_data_clust['labels']==1]['abandona'])"
   ]
  },
  {
   "cell_type": "code",
   "execution_count": 31,
   "metadata": {},
   "outputs": [
    {
     "data": {
      "text/plain": [
       "1    0.837209\n",
       "0    0.162791\n",
       "Name: abandona, dtype: float64"
      ]
     },
     "execution_count": 31,
     "metadata": {},
     "output_type": "execute_result"
    }
   ],
   "source": [
    "analys_personal_data_clust[analys_personal_data_clust['labels']==0]['abandona'].value_counts(normalize=True)"
   ]
  },
  {
   "cell_type": "code",
   "execution_count": 32,
   "metadata": {},
   "outputs": [
    {
     "data": {
      "text/plain": [
       "0    0.697697\n",
       "1    0.302303\n",
       "Name: abandona, dtype: float64"
      ]
     },
     "execution_count": 32,
     "metadata": {},
     "output_type": "execute_result"
    }
   ],
   "source": [
    "analys_personal_data_clust[analys_personal_data_clust['labels']==1]['abandona'].value_counts(normalize=True)"
   ]
  },
  {
   "cell_type": "code",
   "execution_count": 30,
   "metadata": {},
   "outputs": [],
   "source": [
    "# from apitep_utils.report import Report\n",
    "# for label in analys_personal_data['labels'].cat.categories:\n",
    "#     dset = analys_personal_data[analys_personal_data['labels'] == label]\n",
    "#     report = Report()\n",
    "#     report.generate_advanced(dset,'KMeans_1st_year_2_cl_'+str(label),sys.path[0]+ '/'+ '1st_year_cat_'+ str(label))"
   ]
  }
 ],
 "metadata": {
  "kernelspec": {
   "display_name": "Python 3",
   "language": "python",
   "name": "python3"
  },
  "language_info": {
   "codemirror_mode": {
    "name": "ipython",
    "version": 3
   },
   "file_extension": ".py",
   "mimetype": "text/x-python",
   "name": "python",
   "nbconvert_exporter": "python",
   "pygments_lexer": "ipython3",
   "version": "3.8.10"
  }
 },
 "nbformat": 4,
 "nbformat_minor": 4
}
