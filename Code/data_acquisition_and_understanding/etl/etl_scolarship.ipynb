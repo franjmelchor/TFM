{
 "cells": [
  {
   "cell_type": "code",
   "execution_count": 1,
   "metadata": {},
   "outputs": [],
   "source": [
    "import pandas as pd\n",
    "import os\n",
    "import sys\n",
    "module_path = os.path.abspath(os.path.join('..'))\n",
    "if module_path not in sys.path:\n",
    "    sys.path.append(module_path)\n",
    "import keys    "
   ]
  },
  {
   "cell_type": "code",
   "execution_count": 2,
   "metadata": {},
   "outputs": [],
   "source": [
    "path_scolarship_data = '../../../Data/Pre-processed/scolarship.csv'\n",
    "sep = '|'"
   ]
  },
  {
   "cell_type": "code",
   "execution_count": 3,
   "metadata": {},
   "outputs": [
    {
     "data": {
      "text/html": [
       "<div>\n",
       "<style scoped>\n",
       "    .dataframe tbody tr th:only-of-type {\n",
       "        vertical-align: middle;\n",
       "    }\n",
       "\n",
       "    .dataframe tbody tr th {\n",
       "        vertical-align: top;\n",
       "    }\n",
       "\n",
       "    .dataframe thead th {\n",
       "        text-align: right;\n",
       "    }\n",
       "</style>\n",
       "<table border=\"1\" class=\"dataframe\">\n",
       "  <thead>\n",
       "    <tr style=\"text-align: right;\">\n",
       "      <th></th>\n",
       "      <th>expediente</th>\n",
       "      <th>curso_academico</th>\n",
       "      <th>cod_plan</th>\n",
       "      <th>des_plan</th>\n",
       "      <th>becario</th>\n",
       "    </tr>\n",
       "  </thead>\n",
       "  <tbody>\n",
       "    <tr>\n",
       "      <th>0</th>\n",
       "      <td>2</td>\n",
       "      <td>2007-08</td>\n",
       "      <td>1621</td>\n",
       "      <td>MÁSTER EN COMPUTACIÓN GRID Y PARALELISMO</td>\n",
       "      <td>N</td>\n",
       "    </tr>\n",
       "    <tr>\n",
       "      <th>1</th>\n",
       "      <td>3</td>\n",
       "      <td>2007-08</td>\n",
       "      <td>1621</td>\n",
       "      <td>MÁSTER EN COMPUTACIÓN GRID Y PARALELISMO</td>\n",
       "      <td>N</td>\n",
       "    </tr>\n",
       "    <tr>\n",
       "      <th>2</th>\n",
       "      <td>5</td>\n",
       "      <td>2007-08</td>\n",
       "      <td>1621</td>\n",
       "      <td>MÁSTER EN COMPUTACIÓN GRID Y PARALELISMO</td>\n",
       "      <td>N</td>\n",
       "    </tr>\n",
       "    <tr>\n",
       "      <th>3</th>\n",
       "      <td>6</td>\n",
       "      <td>2007-08</td>\n",
       "      <td>1621</td>\n",
       "      <td>MÁSTER EN COMPUTACIÓN GRID Y PARALELISMO</td>\n",
       "      <td>S</td>\n",
       "    </tr>\n",
       "    <tr>\n",
       "      <th>4</th>\n",
       "      <td>7</td>\n",
       "      <td>2007-08</td>\n",
       "      <td>1621</td>\n",
       "      <td>MÁSTER EN COMPUTACIÓN GRID Y PARALELISMO</td>\n",
       "      <td>N</td>\n",
       "    </tr>\n",
       "  </tbody>\n",
       "</table>\n",
       "</div>"
      ],
      "text/plain": [
       "   expediente curso_academico  cod_plan  \\\n",
       "0           2         2007-08      1621   \n",
       "1           3         2007-08      1621   \n",
       "2           5         2007-08      1621   \n",
       "3           6         2007-08      1621   \n",
       "4           7         2007-08      1621   \n",
       "\n",
       "                                   des_plan becario  \n",
       "0  MÁSTER EN COMPUTACIÓN GRID Y PARALELISMO       N  \n",
       "1  MÁSTER EN COMPUTACIÓN GRID Y PARALELISMO       N  \n",
       "2  MÁSTER EN COMPUTACIÓN GRID Y PARALELISMO       N  \n",
       "3  MÁSTER EN COMPUTACIÓN GRID Y PARALELISMO       S  \n",
       "4  MÁSTER EN COMPUTACIÓN GRID Y PARALELISMO       N  "
      ]
     },
     "execution_count": 3,
     "metadata": {},
     "output_type": "execute_result"
    }
   ],
   "source": [
    "scolarship = pd.read_csv(\n",
    "                path_scolarship_data,\n",
    "                sep=sep\n",
    "                )\n",
    "scolarship.head()"
   ]
  },
  {
   "cell_type": "code",
   "execution_count": 4,
   "metadata": {},
   "outputs": [],
   "source": [
    "old_degrees = ['MÁSTER UNIVERSITARIO EN COMPUTACIÓN GRID Y PARALELISMO',\n",
    "               'MÁSTER DE ESPECIALIZACIÓN EN GEOTECNOLOGÍAS TOPOGRÁFICAS EN LA INGENIERÍA',\n",
    "               'MÁSTER UNIVERSITARIO EN EVALUACIÓN Y GESTIÓN DEL RUIDO AMBIENTAL',\n",
    "               'MÁSTER EN COMPUTACIÓN GRID Y PARALELISMO']"
   ]
  },
  {
   "cell_type": "code",
   "execution_count": 5,
   "metadata": {},
   "outputs": [
    {
     "name": "stdout",
     "output_type": "stream",
     "text": [
      "delete data of old degrees = 165\n",
      "columns of final dataset are:Index(['expediente', 'curso_academico', 'cod_plan', 'des_plan', 'becario'], dtype='object')\n",
      "final number of rows: 15595\n"
     ]
    }
   ],
   "source": [
    "rows_before = len(scolarship.index)\n",
    "scolarship = scolarship[scolarship[keys.PLAN_DESCRIPTION_KEY].isin(old_degrees) == False]\n",
    "rows_after = len(scolarship.index)\n",
    "print(\"delete data of old degrees = \" + str( rows_before - rows_after))\n",
    "\n",
    "print(\"columns of final dataset are:\" + str(scolarship.columns))\n",
    "print(\"final number of rows: \" + str(len(scolarship.index)))\n"
   ]
  },
  {
   "cell_type": "code",
   "execution_count": 6,
   "metadata": {},
   "outputs": [],
   "source": [
    "path_scolarship_processed ='../../../Data/Processed/pr_scolarship.csv'\n",
    "scolarship.to_csv(\n",
    "    path_scolarship_processed,\n",
    "    sep=sep,\n",
    "    index=False)"
   ]
  }
 ],
 "metadata": {
  "kernelspec": {
   "display_name": "Python 3",
   "language": "python",
   "name": "python3"
  },
  "language_info": {
   "codemirror_mode": {
    "name": "ipython",
    "version": 3
   },
   "file_extension": ".py",
   "mimetype": "text/x-python",
   "name": "python",
   "nbconvert_exporter": "python",
   "pygments_lexer": "ipython3",
   "version": "3.8.10"
  }
 },
 "nbformat": 4,
 "nbformat_minor": 4
}
